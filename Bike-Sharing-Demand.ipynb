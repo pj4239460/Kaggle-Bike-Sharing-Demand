{
 "cells": [
  {
   "cell_type": "code",
   "execution_count": 1,
   "metadata": {},
   "outputs": [
    {
     "name": "stderr",
     "output_type": "stream",
     "text": [
      "D:\\Anaconda3\\lib\\site-packages\\sklearn\\externals\\joblib\\__init__.py:15: DeprecationWarning: sklearn.externals.joblib is deprecated in 0.21 and will be removed in 0.23. Please import this functionality directly from joblib, which can be installed with: pip install joblib. If this warning is raised when loading pickled models, you may need to re-serialize those models with scikit-learn 0.21+.\n",
      "  warnings.warn(msg, category=DeprecationWarning)\n"
     ]
    }
   ],
   "source": [
    "import pandas as pd\n",
    "import numpy as np\n",
    "import pylab\n",
    "import calendar\n",
    "import numpy as np\n",
    "import pandas as pd\n",
    "import seaborn as sn\n",
    "from scipy import stats\n",
    "from datetime import datetime\n",
    "import matplotlib.pyplot as plt\n",
    "from sklearn.externals import joblib"
   ]
  },
  {
   "cell_type": "code",
   "execution_count": 2,
   "metadata": {},
   "outputs": [],
   "source": [
    "# import datetime\n",
    "def date_diff(date):\n",
    "    first_new_year=str(date[0:4])+\"-01-01 00:00:00\"\n",
    "    date = datetime.strptime(date, '%Y-%m-%d %H:%M:%S')\n",
    "    first_new_year = datetime.strptime(first_new_year, '%Y-%m-%d %H:%M:%S')\n",
    "    return (date-first_new_year).days"
   ]
  },
  {
   "cell_type": "code",
   "execution_count": 3,
   "metadata": {},
   "outputs": [],
   "source": [
    "df_bike_data = pd.read_csv(\"bike_data.csv\")"
   ]
  },
  {
   "cell_type": "code",
   "execution_count": 4,
   "metadata": {},
   "outputs": [
    {
     "name": "stdout",
     "output_type": "stream",
     "text": [
      "<class 'pandas.core.frame.DataFrame'>\n",
      "RangeIndex: 10886 entries, 0 to 10885\n",
      "Data columns (total 10 columns):\n",
      "datetime      10886 non-null object\n",
      "season        10886 non-null int64\n",
      "holiday       10886 non-null int64\n",
      "workingday    10886 non-null int64\n",
      "weather       10886 non-null int64\n",
      "temp          10886 non-null float64\n",
      "atemp         10886 non-null float64\n",
      "humidity      10886 non-null int64\n",
      "windspeed     10886 non-null float64\n",
      "count         10886 non-null int64\n",
      "dtypes: float64(3), int64(6), object(1)\n",
      "memory usage: 850.6+ KB\n"
     ]
    }
   ],
   "source": [
    "df_bike_data.info()"
   ]
  },
  {
   "cell_type": "code",
   "execution_count": 5,
   "metadata": {},
   "outputs": [
    {
     "data": {
      "text/html": [
       "<div>\n",
       "<style scoped>\n",
       "    .dataframe tbody tr th:only-of-type {\n",
       "        vertical-align: middle;\n",
       "    }\n",
       "\n",
       "    .dataframe tbody tr th {\n",
       "        vertical-align: top;\n",
       "    }\n",
       "\n",
       "    .dataframe thead th {\n",
       "        text-align: right;\n",
       "    }\n",
       "</style>\n",
       "<table border=\"1\" class=\"dataframe\">\n",
       "  <thead>\n",
       "    <tr style=\"text-align: right;\">\n",
       "      <th></th>\n",
       "      <th>season</th>\n",
       "      <th>holiday</th>\n",
       "      <th>workingday</th>\n",
       "      <th>weather</th>\n",
       "      <th>temp</th>\n",
       "      <th>atemp</th>\n",
       "      <th>humidity</th>\n",
       "      <th>windspeed</th>\n",
       "      <th>count</th>\n",
       "    </tr>\n",
       "  </thead>\n",
       "  <tbody>\n",
       "    <tr>\n",
       "      <td>count</td>\n",
       "      <td>10886.000000</td>\n",
       "      <td>10886.000000</td>\n",
       "      <td>10886.000000</td>\n",
       "      <td>10886.000000</td>\n",
       "      <td>10886.00000</td>\n",
       "      <td>10886.000000</td>\n",
       "      <td>10886.000000</td>\n",
       "      <td>10886.000000</td>\n",
       "      <td>10886.000000</td>\n",
       "    </tr>\n",
       "    <tr>\n",
       "      <td>mean</td>\n",
       "      <td>2.506614</td>\n",
       "      <td>0.028569</td>\n",
       "      <td>0.680875</td>\n",
       "      <td>1.418427</td>\n",
       "      <td>20.23086</td>\n",
       "      <td>23.655084</td>\n",
       "      <td>61.886460</td>\n",
       "      <td>12.799395</td>\n",
       "      <td>191.574132</td>\n",
       "    </tr>\n",
       "    <tr>\n",
       "      <td>std</td>\n",
       "      <td>1.116174</td>\n",
       "      <td>0.166599</td>\n",
       "      <td>0.466159</td>\n",
       "      <td>0.633839</td>\n",
       "      <td>7.79159</td>\n",
       "      <td>8.474601</td>\n",
       "      <td>19.245033</td>\n",
       "      <td>8.164537</td>\n",
       "      <td>181.144454</td>\n",
       "    </tr>\n",
       "    <tr>\n",
       "      <td>min</td>\n",
       "      <td>1.000000</td>\n",
       "      <td>0.000000</td>\n",
       "      <td>0.000000</td>\n",
       "      <td>1.000000</td>\n",
       "      <td>0.82000</td>\n",
       "      <td>0.760000</td>\n",
       "      <td>0.000000</td>\n",
       "      <td>0.000000</td>\n",
       "      <td>1.000000</td>\n",
       "    </tr>\n",
       "    <tr>\n",
       "      <td>25%</td>\n",
       "      <td>2.000000</td>\n",
       "      <td>0.000000</td>\n",
       "      <td>0.000000</td>\n",
       "      <td>1.000000</td>\n",
       "      <td>13.94000</td>\n",
       "      <td>16.665000</td>\n",
       "      <td>47.000000</td>\n",
       "      <td>7.001500</td>\n",
       "      <td>42.000000</td>\n",
       "    </tr>\n",
       "    <tr>\n",
       "      <td>50%</td>\n",
       "      <td>3.000000</td>\n",
       "      <td>0.000000</td>\n",
       "      <td>1.000000</td>\n",
       "      <td>1.000000</td>\n",
       "      <td>20.50000</td>\n",
       "      <td>24.240000</td>\n",
       "      <td>62.000000</td>\n",
       "      <td>12.998000</td>\n",
       "      <td>145.000000</td>\n",
       "    </tr>\n",
       "    <tr>\n",
       "      <td>75%</td>\n",
       "      <td>4.000000</td>\n",
       "      <td>0.000000</td>\n",
       "      <td>1.000000</td>\n",
       "      <td>2.000000</td>\n",
       "      <td>26.24000</td>\n",
       "      <td>31.060000</td>\n",
       "      <td>77.000000</td>\n",
       "      <td>16.997900</td>\n",
       "      <td>284.000000</td>\n",
       "    </tr>\n",
       "    <tr>\n",
       "      <td>max</td>\n",
       "      <td>4.000000</td>\n",
       "      <td>1.000000</td>\n",
       "      <td>1.000000</td>\n",
       "      <td>4.000000</td>\n",
       "      <td>41.00000</td>\n",
       "      <td>45.455000</td>\n",
       "      <td>100.000000</td>\n",
       "      <td>56.996900</td>\n",
       "      <td>977.000000</td>\n",
       "    </tr>\n",
       "  </tbody>\n",
       "</table>\n",
       "</div>"
      ],
      "text/plain": [
       "             season       holiday    workingday       weather         temp  \\\n",
       "count  10886.000000  10886.000000  10886.000000  10886.000000  10886.00000   \n",
       "mean       2.506614      0.028569      0.680875      1.418427     20.23086   \n",
       "std        1.116174      0.166599      0.466159      0.633839      7.79159   \n",
       "min        1.000000      0.000000      0.000000      1.000000      0.82000   \n",
       "25%        2.000000      0.000000      0.000000      1.000000     13.94000   \n",
       "50%        3.000000      0.000000      1.000000      1.000000     20.50000   \n",
       "75%        4.000000      0.000000      1.000000      2.000000     26.24000   \n",
       "max        4.000000      1.000000      1.000000      4.000000     41.00000   \n",
       "\n",
       "              atemp      humidity     windspeed         count  \n",
       "count  10886.000000  10886.000000  10886.000000  10886.000000  \n",
       "mean      23.655084     61.886460     12.799395    191.574132  \n",
       "std        8.474601     19.245033      8.164537    181.144454  \n",
       "min        0.760000      0.000000      0.000000      1.000000  \n",
       "25%       16.665000     47.000000      7.001500     42.000000  \n",
       "50%       24.240000     62.000000     12.998000    145.000000  \n",
       "75%       31.060000     77.000000     16.997900    284.000000  \n",
       "max       45.455000    100.000000     56.996900    977.000000  "
      ]
     },
     "execution_count": 5,
     "metadata": {},
     "output_type": "execute_result"
    }
   ],
   "source": [
    "df_bike_data.describe()"
   ]
  },
  {
   "cell_type": "markdown",
   "metadata": {},
   "source": [
    "Feature engineering"
   ]
  },
  {
   "cell_type": "code",
   "execution_count": 6,
   "metadata": {},
   "outputs": [],
   "source": [
    "df_bike_data[\"hour\"] = df_bike_data.datetime.apply(lambda x : int(x.split()[1].split(\":\")[0]))"
   ]
  },
  {
   "cell_type": "code",
   "execution_count": 7,
   "metadata": {},
   "outputs": [],
   "source": [
    "df_bike_data[\"date\"] = df_bike_data.datetime.apply(lambda x : x.split()[0])"
   ]
  },
  {
   "cell_type": "code",
   "execution_count": 8,
   "metadata": {},
   "outputs": [],
   "source": [
    "df_bike_data[\"weekday\"] = df_bike_data.date.apply(lambda dateString : calendar.day_name[datetime.strptime(dateString,\"%Y-%m-%d\").weekday()])"
   ]
  },
  {
   "cell_type": "code",
   "execution_count": 9,
   "metadata": {},
   "outputs": [],
   "source": [
    "df_bike_data['date_newyear_num']=df_bike_data[\"datetime\"].apply(lambda x : date_diff(x))"
   ]
  },
  {
   "cell_type": "code",
   "execution_count": 10,
   "metadata": {},
   "outputs": [
    {
     "data": {
      "text/html": [
       "<div>\n",
       "<style scoped>\n",
       "    .dataframe tbody tr th:only-of-type {\n",
       "        vertical-align: middle;\n",
       "    }\n",
       "\n",
       "    .dataframe tbody tr th {\n",
       "        vertical-align: top;\n",
       "    }\n",
       "\n",
       "    .dataframe thead th {\n",
       "        text-align: right;\n",
       "    }\n",
       "</style>\n",
       "<table border=\"1\" class=\"dataframe\">\n",
       "  <thead>\n",
       "    <tr style=\"text-align: right;\">\n",
       "      <th></th>\n",
       "      <th>datetime</th>\n",
       "      <th>season</th>\n",
       "      <th>holiday</th>\n",
       "      <th>workingday</th>\n",
       "      <th>weather</th>\n",
       "      <th>temp</th>\n",
       "      <th>atemp</th>\n",
       "      <th>humidity</th>\n",
       "      <th>windspeed</th>\n",
       "      <th>count</th>\n",
       "      <th>hour</th>\n",
       "      <th>date</th>\n",
       "      <th>weekday</th>\n",
       "      <th>date_newyear_num</th>\n",
       "    </tr>\n",
       "  </thead>\n",
       "  <tbody>\n",
       "    <tr>\n",
       "      <td>0</td>\n",
       "      <td>2011-01-01 00:00:00</td>\n",
       "      <td>1</td>\n",
       "      <td>0</td>\n",
       "      <td>0</td>\n",
       "      <td>1</td>\n",
       "      <td>9.84</td>\n",
       "      <td>14.395</td>\n",
       "      <td>81</td>\n",
       "      <td>0.0000</td>\n",
       "      <td>16</td>\n",
       "      <td>0</td>\n",
       "      <td>2011-01-01</td>\n",
       "      <td>Saturday</td>\n",
       "      <td>0</td>\n",
       "    </tr>\n",
       "    <tr>\n",
       "      <td>1</td>\n",
       "      <td>2011-01-01 01:00:00</td>\n",
       "      <td>1</td>\n",
       "      <td>0</td>\n",
       "      <td>0</td>\n",
       "      <td>1</td>\n",
       "      <td>9.02</td>\n",
       "      <td>13.635</td>\n",
       "      <td>80</td>\n",
       "      <td>0.0000</td>\n",
       "      <td>40</td>\n",
       "      <td>1</td>\n",
       "      <td>2011-01-01</td>\n",
       "      <td>Saturday</td>\n",
       "      <td>0</td>\n",
       "    </tr>\n",
       "    <tr>\n",
       "      <td>2</td>\n",
       "      <td>2011-01-01 02:00:00</td>\n",
       "      <td>1</td>\n",
       "      <td>0</td>\n",
       "      <td>0</td>\n",
       "      <td>1</td>\n",
       "      <td>9.02</td>\n",
       "      <td>13.635</td>\n",
       "      <td>80</td>\n",
       "      <td>0.0000</td>\n",
       "      <td>32</td>\n",
       "      <td>2</td>\n",
       "      <td>2011-01-01</td>\n",
       "      <td>Saturday</td>\n",
       "      <td>0</td>\n",
       "    </tr>\n",
       "    <tr>\n",
       "      <td>3</td>\n",
       "      <td>2011-01-01 03:00:00</td>\n",
       "      <td>1</td>\n",
       "      <td>0</td>\n",
       "      <td>0</td>\n",
       "      <td>1</td>\n",
       "      <td>9.84</td>\n",
       "      <td>14.395</td>\n",
       "      <td>75</td>\n",
       "      <td>0.0000</td>\n",
       "      <td>13</td>\n",
       "      <td>3</td>\n",
       "      <td>2011-01-01</td>\n",
       "      <td>Saturday</td>\n",
       "      <td>0</td>\n",
       "    </tr>\n",
       "    <tr>\n",
       "      <td>4</td>\n",
       "      <td>2011-01-01 04:00:00</td>\n",
       "      <td>1</td>\n",
       "      <td>0</td>\n",
       "      <td>0</td>\n",
       "      <td>1</td>\n",
       "      <td>9.84</td>\n",
       "      <td>14.395</td>\n",
       "      <td>75</td>\n",
       "      <td>0.0000</td>\n",
       "      <td>1</td>\n",
       "      <td>4</td>\n",
       "      <td>2011-01-01</td>\n",
       "      <td>Saturday</td>\n",
       "      <td>0</td>\n",
       "    </tr>\n",
       "    <tr>\n",
       "      <td>...</td>\n",
       "      <td>...</td>\n",
       "      <td>...</td>\n",
       "      <td>...</td>\n",
       "      <td>...</td>\n",
       "      <td>...</td>\n",
       "      <td>...</td>\n",
       "      <td>...</td>\n",
       "      <td>...</td>\n",
       "      <td>...</td>\n",
       "      <td>...</td>\n",
       "      <td>...</td>\n",
       "      <td>...</td>\n",
       "      <td>...</td>\n",
       "      <td>...</td>\n",
       "    </tr>\n",
       "    <tr>\n",
       "      <td>10881</td>\n",
       "      <td>2012-12-19 19:00:00</td>\n",
       "      <td>4</td>\n",
       "      <td>0</td>\n",
       "      <td>1</td>\n",
       "      <td>1</td>\n",
       "      <td>15.58</td>\n",
       "      <td>19.695</td>\n",
       "      <td>50</td>\n",
       "      <td>26.0027</td>\n",
       "      <td>336</td>\n",
       "      <td>19</td>\n",
       "      <td>2012-12-19</td>\n",
       "      <td>Wednesday</td>\n",
       "      <td>353</td>\n",
       "    </tr>\n",
       "    <tr>\n",
       "      <td>10882</td>\n",
       "      <td>2012-12-19 20:00:00</td>\n",
       "      <td>4</td>\n",
       "      <td>0</td>\n",
       "      <td>1</td>\n",
       "      <td>1</td>\n",
       "      <td>14.76</td>\n",
       "      <td>17.425</td>\n",
       "      <td>57</td>\n",
       "      <td>15.0013</td>\n",
       "      <td>241</td>\n",
       "      <td>20</td>\n",
       "      <td>2012-12-19</td>\n",
       "      <td>Wednesday</td>\n",
       "      <td>353</td>\n",
       "    </tr>\n",
       "    <tr>\n",
       "      <td>10883</td>\n",
       "      <td>2012-12-19 21:00:00</td>\n",
       "      <td>4</td>\n",
       "      <td>0</td>\n",
       "      <td>1</td>\n",
       "      <td>1</td>\n",
       "      <td>13.94</td>\n",
       "      <td>15.910</td>\n",
       "      <td>61</td>\n",
       "      <td>15.0013</td>\n",
       "      <td>168</td>\n",
       "      <td>21</td>\n",
       "      <td>2012-12-19</td>\n",
       "      <td>Wednesday</td>\n",
       "      <td>353</td>\n",
       "    </tr>\n",
       "    <tr>\n",
       "      <td>10884</td>\n",
       "      <td>2012-12-19 22:00:00</td>\n",
       "      <td>4</td>\n",
       "      <td>0</td>\n",
       "      <td>1</td>\n",
       "      <td>1</td>\n",
       "      <td>13.94</td>\n",
       "      <td>17.425</td>\n",
       "      <td>61</td>\n",
       "      <td>6.0032</td>\n",
       "      <td>129</td>\n",
       "      <td>22</td>\n",
       "      <td>2012-12-19</td>\n",
       "      <td>Wednesday</td>\n",
       "      <td>353</td>\n",
       "    </tr>\n",
       "    <tr>\n",
       "      <td>10885</td>\n",
       "      <td>2012-12-19 23:00:00</td>\n",
       "      <td>4</td>\n",
       "      <td>0</td>\n",
       "      <td>1</td>\n",
       "      <td>1</td>\n",
       "      <td>13.12</td>\n",
       "      <td>16.665</td>\n",
       "      <td>66</td>\n",
       "      <td>8.9981</td>\n",
       "      <td>88</td>\n",
       "      <td>23</td>\n",
       "      <td>2012-12-19</td>\n",
       "      <td>Wednesday</td>\n",
       "      <td>353</td>\n",
       "    </tr>\n",
       "  </tbody>\n",
       "</table>\n",
       "<p>10886 rows × 14 columns</p>\n",
       "</div>"
      ],
      "text/plain": [
       "                  datetime  season  holiday  workingday  weather   temp  \\\n",
       "0      2011-01-01 00:00:00       1        0           0        1   9.84   \n",
       "1      2011-01-01 01:00:00       1        0           0        1   9.02   \n",
       "2      2011-01-01 02:00:00       1        0           0        1   9.02   \n",
       "3      2011-01-01 03:00:00       1        0           0        1   9.84   \n",
       "4      2011-01-01 04:00:00       1        0           0        1   9.84   \n",
       "...                    ...     ...      ...         ...      ...    ...   \n",
       "10881  2012-12-19 19:00:00       4        0           1        1  15.58   \n",
       "10882  2012-12-19 20:00:00       4        0           1        1  14.76   \n",
       "10883  2012-12-19 21:00:00       4        0           1        1  13.94   \n",
       "10884  2012-12-19 22:00:00       4        0           1        1  13.94   \n",
       "10885  2012-12-19 23:00:00       4        0           1        1  13.12   \n",
       "\n",
       "        atemp  humidity  windspeed  count  hour        date    weekday  \\\n",
       "0      14.395        81     0.0000     16     0  2011-01-01   Saturday   \n",
       "1      13.635        80     0.0000     40     1  2011-01-01   Saturday   \n",
       "2      13.635        80     0.0000     32     2  2011-01-01   Saturday   \n",
       "3      14.395        75     0.0000     13     3  2011-01-01   Saturday   \n",
       "4      14.395        75     0.0000      1     4  2011-01-01   Saturday   \n",
       "...       ...       ...        ...    ...   ...         ...        ...   \n",
       "10881  19.695        50    26.0027    336    19  2012-12-19  Wednesday   \n",
       "10882  17.425        57    15.0013    241    20  2012-12-19  Wednesday   \n",
       "10883  15.910        61    15.0013    168    21  2012-12-19  Wednesday   \n",
       "10884  17.425        61     6.0032    129    22  2012-12-19  Wednesday   \n",
       "10885  16.665        66     8.9981     88    23  2012-12-19  Wednesday   \n",
       "\n",
       "       date_newyear_num  \n",
       "0                     0  \n",
       "1                     0  \n",
       "2                     0  \n",
       "3                     0  \n",
       "4                     0  \n",
       "...                 ...  \n",
       "10881               353  \n",
       "10882               353  \n",
       "10883               353  \n",
       "10884               353  \n",
       "10885               353  \n",
       "\n",
       "[10886 rows x 14 columns]"
      ]
     },
     "execution_count": 10,
     "metadata": {},
     "output_type": "execute_result"
    }
   ],
   "source": [
    "df_bike_data"
   ]
  },
  {
   "cell_type": "code",
   "execution_count": 11,
   "metadata": {},
   "outputs": [
    {
     "data": {
      "text/plain": [
       "['datetime',\n",
       " 'season',\n",
       " 'holiday',\n",
       " 'workingday',\n",
       " 'weather',\n",
       " 'temp',\n",
       " 'atemp',\n",
       " 'humidity',\n",
       " 'windspeed',\n",
       " 'count',\n",
       " 'hour',\n",
       " 'date',\n",
       " 'weekday',\n",
       " 'date_newyear_num']"
      ]
     },
     "execution_count": 11,
     "metadata": {},
     "output_type": "execute_result"
    }
   ],
   "source": [
    "cols = list(df_bike_data)\n",
    "cols"
   ]
  },
  {
   "cell_type": "code",
   "execution_count": 12,
   "metadata": {},
   "outputs": [
    {
     "data": {
      "text/plain": [
       "['datetime',\n",
       " 'season',\n",
       " 'holiday',\n",
       " 'workingday',\n",
       " 'weather',\n",
       " 'temp',\n",
       " 'atemp',\n",
       " 'humidity',\n",
       " 'windspeed',\n",
       " 'hour',\n",
       " 'date',\n",
       " 'weekday',\n",
       " 'date_newyear_num',\n",
       " 'count']"
      ]
     },
     "execution_count": 12,
     "metadata": {},
     "output_type": "execute_result"
    }
   ],
   "source": [
    "cols.insert(len(cols), cols.pop(cols.index('count')))\n",
    "cols"
   ]
  },
  {
   "cell_type": "code",
   "execution_count": 13,
   "metadata": {},
   "outputs": [],
   "source": [
    "df_bike_data = df_bike_data.loc[:, cols]"
   ]
  },
  {
   "cell_type": "code",
   "execution_count": 14,
   "metadata": {},
   "outputs": [
    {
     "data": {
      "text/html": [
       "<div>\n",
       "<style scoped>\n",
       "    .dataframe tbody tr th:only-of-type {\n",
       "        vertical-align: middle;\n",
       "    }\n",
       "\n",
       "    .dataframe tbody tr th {\n",
       "        vertical-align: top;\n",
       "    }\n",
       "\n",
       "    .dataframe thead th {\n",
       "        text-align: right;\n",
       "    }\n",
       "</style>\n",
       "<table border=\"1\" class=\"dataframe\">\n",
       "  <thead>\n",
       "    <tr style=\"text-align: right;\">\n",
       "      <th></th>\n",
       "      <th>datetime</th>\n",
       "      <th>season</th>\n",
       "      <th>holiday</th>\n",
       "      <th>workingday</th>\n",
       "      <th>weather</th>\n",
       "      <th>temp</th>\n",
       "      <th>atemp</th>\n",
       "      <th>humidity</th>\n",
       "      <th>windspeed</th>\n",
       "      <th>hour</th>\n",
       "      <th>date</th>\n",
       "      <th>weekday</th>\n",
       "      <th>date_newyear_num</th>\n",
       "      <th>count</th>\n",
       "    </tr>\n",
       "  </thead>\n",
       "  <tbody>\n",
       "    <tr>\n",
       "      <td>0</td>\n",
       "      <td>2011-01-01 00:00:00</td>\n",
       "      <td>1</td>\n",
       "      <td>0</td>\n",
       "      <td>0</td>\n",
       "      <td>1</td>\n",
       "      <td>9.84</td>\n",
       "      <td>14.395</td>\n",
       "      <td>81</td>\n",
       "      <td>0.0000</td>\n",
       "      <td>0</td>\n",
       "      <td>2011-01-01</td>\n",
       "      <td>Saturday</td>\n",
       "      <td>0</td>\n",
       "      <td>16</td>\n",
       "    </tr>\n",
       "    <tr>\n",
       "      <td>1</td>\n",
       "      <td>2011-01-01 01:00:00</td>\n",
       "      <td>1</td>\n",
       "      <td>0</td>\n",
       "      <td>0</td>\n",
       "      <td>1</td>\n",
       "      <td>9.02</td>\n",
       "      <td>13.635</td>\n",
       "      <td>80</td>\n",
       "      <td>0.0000</td>\n",
       "      <td>1</td>\n",
       "      <td>2011-01-01</td>\n",
       "      <td>Saturday</td>\n",
       "      <td>0</td>\n",
       "      <td>40</td>\n",
       "    </tr>\n",
       "    <tr>\n",
       "      <td>2</td>\n",
       "      <td>2011-01-01 02:00:00</td>\n",
       "      <td>1</td>\n",
       "      <td>0</td>\n",
       "      <td>0</td>\n",
       "      <td>1</td>\n",
       "      <td>9.02</td>\n",
       "      <td>13.635</td>\n",
       "      <td>80</td>\n",
       "      <td>0.0000</td>\n",
       "      <td>2</td>\n",
       "      <td>2011-01-01</td>\n",
       "      <td>Saturday</td>\n",
       "      <td>0</td>\n",
       "      <td>32</td>\n",
       "    </tr>\n",
       "    <tr>\n",
       "      <td>3</td>\n",
       "      <td>2011-01-01 03:00:00</td>\n",
       "      <td>1</td>\n",
       "      <td>0</td>\n",
       "      <td>0</td>\n",
       "      <td>1</td>\n",
       "      <td>9.84</td>\n",
       "      <td>14.395</td>\n",
       "      <td>75</td>\n",
       "      <td>0.0000</td>\n",
       "      <td>3</td>\n",
       "      <td>2011-01-01</td>\n",
       "      <td>Saturday</td>\n",
       "      <td>0</td>\n",
       "      <td>13</td>\n",
       "    </tr>\n",
       "    <tr>\n",
       "      <td>4</td>\n",
       "      <td>2011-01-01 04:00:00</td>\n",
       "      <td>1</td>\n",
       "      <td>0</td>\n",
       "      <td>0</td>\n",
       "      <td>1</td>\n",
       "      <td>9.84</td>\n",
       "      <td>14.395</td>\n",
       "      <td>75</td>\n",
       "      <td>0.0000</td>\n",
       "      <td>4</td>\n",
       "      <td>2011-01-01</td>\n",
       "      <td>Saturday</td>\n",
       "      <td>0</td>\n",
       "      <td>1</td>\n",
       "    </tr>\n",
       "    <tr>\n",
       "      <td>...</td>\n",
       "      <td>...</td>\n",
       "      <td>...</td>\n",
       "      <td>...</td>\n",
       "      <td>...</td>\n",
       "      <td>...</td>\n",
       "      <td>...</td>\n",
       "      <td>...</td>\n",
       "      <td>...</td>\n",
       "      <td>...</td>\n",
       "      <td>...</td>\n",
       "      <td>...</td>\n",
       "      <td>...</td>\n",
       "      <td>...</td>\n",
       "      <td>...</td>\n",
       "    </tr>\n",
       "    <tr>\n",
       "      <td>10881</td>\n",
       "      <td>2012-12-19 19:00:00</td>\n",
       "      <td>4</td>\n",
       "      <td>0</td>\n",
       "      <td>1</td>\n",
       "      <td>1</td>\n",
       "      <td>15.58</td>\n",
       "      <td>19.695</td>\n",
       "      <td>50</td>\n",
       "      <td>26.0027</td>\n",
       "      <td>19</td>\n",
       "      <td>2012-12-19</td>\n",
       "      <td>Wednesday</td>\n",
       "      <td>353</td>\n",
       "      <td>336</td>\n",
       "    </tr>\n",
       "    <tr>\n",
       "      <td>10882</td>\n",
       "      <td>2012-12-19 20:00:00</td>\n",
       "      <td>4</td>\n",
       "      <td>0</td>\n",
       "      <td>1</td>\n",
       "      <td>1</td>\n",
       "      <td>14.76</td>\n",
       "      <td>17.425</td>\n",
       "      <td>57</td>\n",
       "      <td>15.0013</td>\n",
       "      <td>20</td>\n",
       "      <td>2012-12-19</td>\n",
       "      <td>Wednesday</td>\n",
       "      <td>353</td>\n",
       "      <td>241</td>\n",
       "    </tr>\n",
       "    <tr>\n",
       "      <td>10883</td>\n",
       "      <td>2012-12-19 21:00:00</td>\n",
       "      <td>4</td>\n",
       "      <td>0</td>\n",
       "      <td>1</td>\n",
       "      <td>1</td>\n",
       "      <td>13.94</td>\n",
       "      <td>15.910</td>\n",
       "      <td>61</td>\n",
       "      <td>15.0013</td>\n",
       "      <td>21</td>\n",
       "      <td>2012-12-19</td>\n",
       "      <td>Wednesday</td>\n",
       "      <td>353</td>\n",
       "      <td>168</td>\n",
       "    </tr>\n",
       "    <tr>\n",
       "      <td>10884</td>\n",
       "      <td>2012-12-19 22:00:00</td>\n",
       "      <td>4</td>\n",
       "      <td>0</td>\n",
       "      <td>1</td>\n",
       "      <td>1</td>\n",
       "      <td>13.94</td>\n",
       "      <td>17.425</td>\n",
       "      <td>61</td>\n",
       "      <td>6.0032</td>\n",
       "      <td>22</td>\n",
       "      <td>2012-12-19</td>\n",
       "      <td>Wednesday</td>\n",
       "      <td>353</td>\n",
       "      <td>129</td>\n",
       "    </tr>\n",
       "    <tr>\n",
       "      <td>10885</td>\n",
       "      <td>2012-12-19 23:00:00</td>\n",
       "      <td>4</td>\n",
       "      <td>0</td>\n",
       "      <td>1</td>\n",
       "      <td>1</td>\n",
       "      <td>13.12</td>\n",
       "      <td>16.665</td>\n",
       "      <td>66</td>\n",
       "      <td>8.9981</td>\n",
       "      <td>23</td>\n",
       "      <td>2012-12-19</td>\n",
       "      <td>Wednesday</td>\n",
       "      <td>353</td>\n",
       "      <td>88</td>\n",
       "    </tr>\n",
       "  </tbody>\n",
       "</table>\n",
       "<p>10886 rows × 14 columns</p>\n",
       "</div>"
      ],
      "text/plain": [
       "                  datetime  season  holiday  workingday  weather   temp  \\\n",
       "0      2011-01-01 00:00:00       1        0           0        1   9.84   \n",
       "1      2011-01-01 01:00:00       1        0           0        1   9.02   \n",
       "2      2011-01-01 02:00:00       1        0           0        1   9.02   \n",
       "3      2011-01-01 03:00:00       1        0           0        1   9.84   \n",
       "4      2011-01-01 04:00:00       1        0           0        1   9.84   \n",
       "...                    ...     ...      ...         ...      ...    ...   \n",
       "10881  2012-12-19 19:00:00       4        0           1        1  15.58   \n",
       "10882  2012-12-19 20:00:00       4        0           1        1  14.76   \n",
       "10883  2012-12-19 21:00:00       4        0           1        1  13.94   \n",
       "10884  2012-12-19 22:00:00       4        0           1        1  13.94   \n",
       "10885  2012-12-19 23:00:00       4        0           1        1  13.12   \n",
       "\n",
       "        atemp  humidity  windspeed  hour        date    weekday  \\\n",
       "0      14.395        81     0.0000     0  2011-01-01   Saturday   \n",
       "1      13.635        80     0.0000     1  2011-01-01   Saturday   \n",
       "2      13.635        80     0.0000     2  2011-01-01   Saturday   \n",
       "3      14.395        75     0.0000     3  2011-01-01   Saturday   \n",
       "4      14.395        75     0.0000     4  2011-01-01   Saturday   \n",
       "...       ...       ...        ...   ...         ...        ...   \n",
       "10881  19.695        50    26.0027    19  2012-12-19  Wednesday   \n",
       "10882  17.425        57    15.0013    20  2012-12-19  Wednesday   \n",
       "10883  15.910        61    15.0013    21  2012-12-19  Wednesday   \n",
       "10884  17.425        61     6.0032    22  2012-12-19  Wednesday   \n",
       "10885  16.665        66     8.9981    23  2012-12-19  Wednesday   \n",
       "\n",
       "       date_newyear_num  count  \n",
       "0                     0     16  \n",
       "1                     0     40  \n",
       "2                     0     32  \n",
       "3                     0     13  \n",
       "4                     0      1  \n",
       "...                 ...    ...  \n",
       "10881               353    336  \n",
       "10882               353    241  \n",
       "10883               353    168  \n",
       "10884               353    129  \n",
       "10885               353     88  \n",
       "\n",
       "[10886 rows x 14 columns]"
      ]
     },
     "execution_count": 14,
     "metadata": {},
     "output_type": "execute_result"
    }
   ],
   "source": [
    "df_bike_data"
   ]
  },
  {
   "cell_type": "markdown",
   "metadata": {},
   "source": [
    "Data visualization"
   ]
  },
  {
   "cell_type": "code",
   "execution_count": 15,
   "metadata": {},
   "outputs": [
    {
     "data": {
      "text/plain": [
       "<matplotlib.axes._subplots.AxesSubplot at 0x214d37e7348>"
      ]
     },
     "execution_count": 15,
     "metadata": {},
     "output_type": "execute_result"
    },
    {
     "data": {
      "image/png": "[encoded data removed]",
      "text/plain": [
       "<Figure size 432x288 with 1 Axes>"
      ]
     },
     "metadata": {
      "needs_background": "light"
     },
     "output_type": "display_data"
    }
   ],
   "source": [
    "df_bike_data.groupby('date_newyear_num')['count'].mean().plot(kind='line')"
   ]
  },
  {
   "cell_type": "code",
   "execution_count": 16,
   "metadata": {},
   "outputs": [
    {
     "data": {
      "text/plain": [
       "<matplotlib.axes._subplots.AxesSubplot at 0x214d3b06788>"
      ]
     },
     "execution_count": 16,
     "metadata": {},
     "output_type": "execute_result"
    },
    {
     "data": {
      "image/png": "[encoded data removed]",
      "text/plain": [
       "<Figure size 432x288 with 1 Axes>"
      ]
     },
     "metadata": {
      "needs_background": "light"
     },
     "output_type": "display_data"
    }
   ],
   "source": [
    "df_bike_data.groupby('hour')['count'].mean().plot(kind='bar')"
   ]
  },
  {
   "cell_type": "code",
   "execution_count": 17,
   "metadata": {},
   "outputs": [
    {
     "data": {
      "text/plain": [
       "<matplotlib.axes._subplots.AxesSubplot at 0x214d3be6448>"
      ]
     },
     "execution_count": 17,
     "metadata": {},
     "output_type": "execute_result"
    },
    {
     "data": {
      "image/png": "[encoded data removed]",
      "text/plain": [
       "<Figure size 432x288 with 1 Axes>"
      ]
     },
     "metadata": {
      "needs_background": "light"
     },
     "output_type": "display_data"
    }
   ],
   "source": [
    "df_bike_data.groupby('season')['count'].mean().plot(kind='bar')"
   ]
  },
  {
   "cell_type": "code",
   "execution_count": 18,
   "metadata": {},
   "outputs": [
    {
     "data": {
      "text/plain": [
       "<matplotlib.axes._subplots.AxesSubplot at 0x214d3c3f248>"
      ]
     },
     "execution_count": 18,
     "metadata": {},
     "output_type": "execute_result"
    },
    {
     "data": {
      "image/png": "[encoded data removed]",
      "text/plain": [
       "<Figure size 432x288 with 1 Axes>"
      ]
     },
     "metadata": {
      "needs_background": "light"
     },
     "output_type": "display_data"
    }
   ],
   "source": [
    "df_bike_data.groupby('weather')['count'].mean().plot(kind='bar')"
   ]
  },
  {
   "cell_type": "code",
   "execution_count": 19,
   "metadata": {},
   "outputs": [],
   "source": [
    "df_bike_data['temp_int']=df_bike_data.temp.apply(lambda x: int(x))\n",
    "df_bike_data['atemp_int']=df_bike_data.atemp.apply(lambda x: int(x))\n",
    "df_bike_data['humidity_int']=df_bike_data.humidity.apply(lambda x: int(x))\n",
    "df_bike_data['windspeed_int']=df_bike_data.windspeed.apply(lambda x: int(x))"
   ]
  },
  {
   "cell_type": "code",
   "execution_count": 20,
   "metadata": {},
   "outputs": [
    {
     "data": {
      "text/plain": [
       "<matplotlib.axes._subplots.AxesSubplot at 0x214d3cdd288>"
      ]
     },
     "execution_count": 20,
     "metadata": {},
     "output_type": "execute_result"
    },
    {
     "data": {
      "image/png": "[encoded data removed]",
      "text/plain": [
       "<Figure size 432x288 with 1 Axes>"
      ]
     },
     "metadata": {
      "needs_background": "light"
     },
     "output_type": "display_data"
    }
   ],
   "source": [
    "df_bike_data.groupby('temp_int')['count'].mean().plot(kind='line')"
   ]
  },
  {
   "cell_type": "code",
   "execution_count": 21,
   "metadata": {},
   "outputs": [
    {
     "data": {
      "text/plain": [
       "<matplotlib.axes._subplots.AxesSubplot at 0x214d3c4f3c8>"
      ]
     },
     "execution_count": 21,
     "metadata": {},
     "output_type": "execute_result"
    },
    {
     "data": {
      "image/png": "[encoded data removed]",
      "text/plain": [
       "<Figure size 432x288 with 1 Axes>"
      ]
     },
     "metadata": {
      "needs_background": "light"
     },
     "output_type": "display_data"
    }
   ],
   "source": [
    "df_bike_data.groupby('atemp_int')['count'].mean().plot(kind='line')"
   ]
  },
  {
   "cell_type": "code",
   "execution_count": 22,
   "metadata": {},
   "outputs": [
    {
     "data": {
      "text/plain": [
       "<matplotlib.axes._subplots.AxesSubplot at 0x214d3da9b48>"
      ]
     },
     "execution_count": 22,
     "metadata": {},
     "output_type": "execute_result"
    },
    {
     "data": {
      "image/png": "[encoded data removed]",
      "text/plain": [
       "<Figure size 432x288 with 1 Axes>"
      ]
     },
     "metadata": {
      "needs_background": "light"
     },
     "output_type": "display_data"
    }
   ],
   "source": [
    "df_bike_data.groupby('windspeed_int')['count'].mean().plot(kind='line')"
   ]
  },
  {
   "cell_type": "code",
   "execution_count": 23,
   "metadata": {},
   "outputs": [
    {
     "data": {
      "text/plain": [
       "<matplotlib.axes._subplots.AxesSubplot at 0x214d3e08208>"
      ]
     },
     "execution_count": 23,
     "metadata": {},
     "output_type": "execute_result"
    },
    {
     "data": {
      "image/png": "[encoded data removed]",
      "text/plain": [
       "<Figure size 432x288 with 1 Axes>"
      ]
     },
     "metadata": {
      "needs_background": "light"
     },
     "output_type": "display_data"
    }
   ],
   "source": [
    "df_bike_data.groupby('humidity_int')['count'].mean().plot(kind='line')"
   ]
  },
  {
   "cell_type": "code",
   "execution_count": 24,
   "metadata": {},
   "outputs": [
    {
     "data": {
      "text/plain": [
       "<matplotlib.axes._subplots.AxesSubplot at 0x214d3f99588>"
      ]
     },
     "execution_count": 24,
     "metadata": {},
     "output_type": "execute_result"
    },
    {
     "data": {
      "image/png": "[encoded data removed]",
      "text/plain": [
       "<Figure size 432x288 with 1 Axes>"
      ]
     },
     "metadata": {
      "needs_background": "light"
     },
     "output_type": "display_data"
    }
   ],
   "source": [
    "df_bike_data.groupby('workingday')['count'].mean().plot(kind='bar')"
   ]
  },
  {
   "cell_type": "code",
   "execution_count": 25,
   "metadata": {},
   "outputs": [
    {
     "data": {
      "text/plain": [
       "<matplotlib.axes._subplots.AxesSubplot at 0x214d4007948>"
      ]
     },
     "execution_count": 25,
     "metadata": {},
     "output_type": "execute_result"
    },
    {
     "data": {
      "image/png": "[encoded data removed]",
      "text/plain": [
       "<Figure size 432x288 with 1 Axes>"
      ]
     },
     "metadata": {
      "needs_background": "light"
     },
     "output_type": "display_data"
    }
   ],
   "source": [
    "df_bike_data.groupby('holiday')['count'].mean().plot(kind='bar')"
   ]
  },
  {
   "cell_type": "code",
   "execution_count": 26,
   "metadata": {},
   "outputs": [],
   "source": [
    "df_bike_data = df_bike_data.drop(['temp_int', 'atemp_int', 'humidity_int', 'windspeed_int'], axis=1)"
   ]
  },
  {
   "cell_type": "code",
   "execution_count": 27,
   "metadata": {},
   "outputs": [
    {
     "data": {
      "text/html": [
       "<div>\n",
       "<style scoped>\n",
       "    .dataframe tbody tr th:only-of-type {\n",
       "        vertical-align: middle;\n",
       "    }\n",
       "\n",
       "    .dataframe tbody tr th {\n",
       "        vertical-align: top;\n",
       "    }\n",
       "\n",
       "    .dataframe thead th {\n",
       "        text-align: right;\n",
       "    }\n",
       "</style>\n",
       "<table border=\"1\" class=\"dataframe\">\n",
       "  <thead>\n",
       "    <tr style=\"text-align: right;\">\n",
       "      <th></th>\n",
       "      <th>season</th>\n",
       "      <th>holiday</th>\n",
       "      <th>workingday</th>\n",
       "      <th>weather</th>\n",
       "      <th>temp</th>\n",
       "      <th>atemp</th>\n",
       "      <th>humidity</th>\n",
       "      <th>windspeed</th>\n",
       "      <th>hour</th>\n",
       "      <th>date_newyear_num</th>\n",
       "      <th>count</th>\n",
       "    </tr>\n",
       "  </thead>\n",
       "  <tbody>\n",
       "    <tr>\n",
       "      <td>season</td>\n",
       "      <td>1.000000</td>\n",
       "      <td>0.029368</td>\n",
       "      <td>-0.008126</td>\n",
       "      <td>0.008879</td>\n",
       "      <td>0.258689</td>\n",
       "      <td>0.264744</td>\n",
       "      <td>0.190610</td>\n",
       "      <td>-0.147121</td>\n",
       "      <td>-0.006546</td>\n",
       "      <td>0.970196</td>\n",
       "      <td>0.163439</td>\n",
       "    </tr>\n",
       "    <tr>\n",
       "      <td>holiday</td>\n",
       "      <td>0.029368</td>\n",
       "      <td>1.000000</td>\n",
       "      <td>-0.250491</td>\n",
       "      <td>-0.007074</td>\n",
       "      <td>0.000295</td>\n",
       "      <td>-0.005215</td>\n",
       "      <td>0.001929</td>\n",
       "      <td>0.008409</td>\n",
       "      <td>-0.000354</td>\n",
       "      <td>0.001134</td>\n",
       "      <td>-0.005393</td>\n",
       "    </tr>\n",
       "    <tr>\n",
       "      <td>workingday</td>\n",
       "      <td>-0.008126</td>\n",
       "      <td>-0.250491</td>\n",
       "      <td>1.000000</td>\n",
       "      <td>0.033772</td>\n",
       "      <td>0.029966</td>\n",
       "      <td>0.024660</td>\n",
       "      <td>-0.010880</td>\n",
       "      <td>0.013373</td>\n",
       "      <td>0.002780</td>\n",
       "      <td>-0.003024</td>\n",
       "      <td>0.011594</td>\n",
       "    </tr>\n",
       "    <tr>\n",
       "      <td>weather</td>\n",
       "      <td>0.008879</td>\n",
       "      <td>-0.007074</td>\n",
       "      <td>0.033772</td>\n",
       "      <td>1.000000</td>\n",
       "      <td>-0.055035</td>\n",
       "      <td>-0.055376</td>\n",
       "      <td>0.406244</td>\n",
       "      <td>0.007261</td>\n",
       "      <td>-0.022740</td>\n",
       "      <td>0.011746</td>\n",
       "      <td>-0.128655</td>\n",
       "    </tr>\n",
       "    <tr>\n",
       "      <td>temp</td>\n",
       "      <td>0.258689</td>\n",
       "      <td>0.000295</td>\n",
       "      <td>0.029966</td>\n",
       "      <td>-0.055035</td>\n",
       "      <td>1.000000</td>\n",
       "      <td>0.984948</td>\n",
       "      <td>-0.064949</td>\n",
       "      <td>-0.017852</td>\n",
       "      <td>0.145430</td>\n",
       "      <td>0.255887</td>\n",
       "      <td>0.394454</td>\n",
       "    </tr>\n",
       "    <tr>\n",
       "      <td>atemp</td>\n",
       "      <td>0.264744</td>\n",
       "      <td>-0.005215</td>\n",
       "      <td>0.024660</td>\n",
       "      <td>-0.055376</td>\n",
       "      <td>0.984948</td>\n",
       "      <td>1.000000</td>\n",
       "      <td>-0.043536</td>\n",
       "      <td>-0.057473</td>\n",
       "      <td>0.140343</td>\n",
       "      <td>0.262245</td>\n",
       "      <td>0.389784</td>\n",
       "    </tr>\n",
       "    <tr>\n",
       "      <td>humidity</td>\n",
       "      <td>0.190610</td>\n",
       "      <td>0.001929</td>\n",
       "      <td>-0.010880</td>\n",
       "      <td>0.406244</td>\n",
       "      <td>-0.064949</td>\n",
       "      <td>-0.043536</td>\n",
       "      <td>1.000000</td>\n",
       "      <td>-0.318607</td>\n",
       "      <td>-0.278011</td>\n",
       "      <td>0.203155</td>\n",
       "      <td>-0.317371</td>\n",
       "    </tr>\n",
       "    <tr>\n",
       "      <td>windspeed</td>\n",
       "      <td>-0.147121</td>\n",
       "      <td>0.008409</td>\n",
       "      <td>0.013373</td>\n",
       "      <td>0.007261</td>\n",
       "      <td>-0.017852</td>\n",
       "      <td>-0.057473</td>\n",
       "      <td>-0.318607</td>\n",
       "      <td>1.000000</td>\n",
       "      <td>0.146631</td>\n",
       "      <td>-0.148062</td>\n",
       "      <td>0.101369</td>\n",
       "    </tr>\n",
       "    <tr>\n",
       "      <td>hour</td>\n",
       "      <td>-0.006546</td>\n",
       "      <td>-0.000354</td>\n",
       "      <td>0.002780</td>\n",
       "      <td>-0.022740</td>\n",
       "      <td>0.145430</td>\n",
       "      <td>0.140343</td>\n",
       "      <td>-0.278011</td>\n",
       "      <td>0.146631</td>\n",
       "      <td>1.000000</td>\n",
       "      <td>-0.006735</td>\n",
       "      <td>0.400601</td>\n",
       "    </tr>\n",
       "    <tr>\n",
       "      <td>date_newyear_num</td>\n",
       "      <td>0.970196</td>\n",
       "      <td>0.001134</td>\n",
       "      <td>-0.003024</td>\n",
       "      <td>0.011746</td>\n",
       "      <td>0.255887</td>\n",
       "      <td>0.262245</td>\n",
       "      <td>0.203155</td>\n",
       "      <td>-0.148062</td>\n",
       "      <td>-0.006735</td>\n",
       "      <td>1.000000</td>\n",
       "      <td>0.168056</td>\n",
       "    </tr>\n",
       "    <tr>\n",
       "      <td>count</td>\n",
       "      <td>0.163439</td>\n",
       "      <td>-0.005393</td>\n",
       "      <td>0.011594</td>\n",
       "      <td>-0.128655</td>\n",
       "      <td>0.394454</td>\n",
       "      <td>0.389784</td>\n",
       "      <td>-0.317371</td>\n",
       "      <td>0.101369</td>\n",
       "      <td>0.400601</td>\n",
       "      <td>0.168056</td>\n",
       "      <td>1.000000</td>\n",
       "    </tr>\n",
       "  </tbody>\n",
       "</table>\n",
       "</div>"
      ],
      "text/plain": [
       "                    season   holiday  workingday   weather      temp  \\\n",
       "season            1.000000  0.029368   -0.008126  0.008879  0.258689   \n",
       "holiday           0.029368  1.000000   -0.250491 -0.007074  0.000295   \n",
       "workingday       -0.008126 -0.250491    1.000000  0.033772  0.029966   \n",
       "weather           0.008879 -0.007074    0.033772  1.000000 -0.055035   \n",
       "temp              0.258689  0.000295    0.029966 -0.055035  1.000000   \n",
       "atemp             0.264744 -0.005215    0.024660 -0.055376  0.984948   \n",
       "humidity          0.190610  0.001929   -0.010880  0.406244 -0.064949   \n",
       "windspeed        -0.147121  0.008409    0.013373  0.007261 -0.017852   \n",
       "hour             -0.006546 -0.000354    0.002780 -0.022740  0.145430   \n",
       "date_newyear_num  0.970196  0.001134   -0.003024  0.011746  0.255887   \n",
       "count             0.163439 -0.005393    0.011594 -0.128655  0.394454   \n",
       "\n",
       "                     atemp  humidity  windspeed      hour  date_newyear_num  \\\n",
       "season            0.264744  0.190610  -0.147121 -0.006546          0.970196   \n",
       "holiday          -0.005215  0.001929   0.008409 -0.000354          0.001134   \n",
       "workingday        0.024660 -0.010880   0.013373  0.002780         -0.003024   \n",
       "weather          -0.055376  0.406244   0.007261 -0.022740          0.011746   \n",
       "temp              0.984948 -0.064949  -0.017852  0.145430          0.255887   \n",
       "atemp             1.000000 -0.043536  -0.057473  0.140343          0.262245   \n",
       "humidity         -0.043536  1.000000  -0.318607 -0.278011          0.203155   \n",
       "windspeed        -0.057473 -0.318607   1.000000  0.146631         -0.148062   \n",
       "hour              0.140343 -0.278011   0.146631  1.000000         -0.006735   \n",
       "date_newyear_num  0.262245  0.203155  -0.148062 -0.006735          1.000000   \n",
       "count             0.389784 -0.317371   0.101369  0.400601          0.168056   \n",
       "\n",
       "                     count  \n",
       "season            0.163439  \n",
       "holiday          -0.005393  \n",
       "workingday        0.011594  \n",
       "weather          -0.128655  \n",
       "temp              0.394454  \n",
       "atemp             0.389784  \n",
       "humidity         -0.317371  \n",
       "windspeed         0.101369  \n",
       "hour              0.400601  \n",
       "date_newyear_num  0.168056  \n",
       "count             1.000000  "
      ]
     },
     "execution_count": 27,
     "metadata": {},
     "output_type": "execute_result"
    }
   ],
   "source": [
    "corrMatt = df_bike_data.corr()\n",
    "corrMatt"
   ]
  },
  {
   "cell_type": "code",
   "execution_count": 28,
   "metadata": {},
   "outputs": [
    {
     "data": {
      "text/plain": [
       "<matplotlib.axes._subplots.AxesSubplot at 0x214d4069188>"
      ]
     },
     "execution_count": 28,
     "metadata": {},
     "output_type": "execute_result"
    },
    {
     "data": {
      "image/png": "[encoded data removed]",
      "text/plain": [
       "<Figure size 1080x576 with 2 Axes>"
      ]
     },
     "metadata": {
      "needs_background": "light"
     },
     "output_type": "display_data"
    }
   ],
   "source": [
    "mask = np.array(corrMatt)\n",
    "mask[np.tril_indices_from(mask)] = False\n",
    "fig,ax= plt.subplots()\n",
    "fig.set_size_inches(15,8)\n",
    "sn.heatmap(corrMatt, mask=mask,vmax=.8, square=True,annot=True)"
   ]
  },
  {
   "cell_type": "markdown",
   "metadata": {},
   "source": [
    "The outliers"
   ]
  },
  {
   "cell_type": "code",
   "execution_count": 29,
   "metadata": {},
   "outputs": [
    {
     "data": {
      "text/plain": [
       "[Text(0, 0.5, 'Count'),\n",
       " Text(0.5, 0, 'Working Day'),\n",
       " Text(0.5, 1.0, 'Box Plot On Count Across Working Day')]"
      ]
     },
     "execution_count": 29,
     "metadata": {},
     "output_type": "execute_result"
    },
    {
     "data": {
      "image/png": "[encoded data removed]",
      "text/plain": [
       "<Figure size 864x720 with 4 Axes>"
      ]
     },
     "metadata": {
      "needs_background": "light"
     },
     "output_type": "display_data"
    }
   ],
   "source": [
    "fig, axes = plt.subplots(nrows=2,ncols=2)\n",
    "fig.set_size_inches(12, 10)\n",
    "sn.boxplot(data=df_bike_data,y=\"count\",ax=axes[0][0])\n",
    "sn.boxplot(data=df_bike_data,y=\"count\",x=\"season\",ax=axes[0][1])\n",
    "sn.boxplot(data=df_bike_data,y=\"count\",x=\"hour\",ax=axes[1][0])\n",
    "sn.boxplot(data=df_bike_data,y=\"count\",x=\"workingday\",ax=axes[1][1])\n",
    "\n",
    "axes[0][0].set(ylabel='Count',title=\"Box Plot On Count\")\n",
    "axes[0][1].set(xlabel='Season', ylabel='Count',title=\"Box Plot On Count Across Season\")\n",
    "axes[1][0].set(xlabel='Hour Of The Day', ylabel='Count',title=\"Box Plot On Count Across Hour Of The Day\")\n",
    "axes[1][1].set(xlabel='Working Day', ylabel='Count',title=\"Box Plot On Count Across Working Day\")"
   ]
  },
  {
   "cell_type": "code",
   "execution_count": 34,
   "metadata": {},
   "outputs": [
    {
     "data": {
      "text/html": [
       "<div>\n",
       "<style scoped>\n",
       "    .dataframe tbody tr th:only-of-type {\n",
       "        vertical-align: middle;\n",
       "    }\n",
       "\n",
       "    .dataframe tbody tr th {\n",
       "        vertical-align: top;\n",
       "    }\n",
       "\n",
       "    .dataframe thead th {\n",
       "        text-align: right;\n",
       "    }\n",
       "</style>\n",
       "<table border=\"1\" class=\"dataframe\">\n",
       "  <thead>\n",
       "    <tr style=\"text-align: right;\">\n",
       "      <th></th>\n",
       "      <th>season</th>\n",
       "      <th>holiday</th>\n",
       "      <th>workingday</th>\n",
       "      <th>weather</th>\n",
       "      <th>temp</th>\n",
       "      <th>atemp</th>\n",
       "      <th>humidity</th>\n",
       "      <th>windspeed</th>\n",
       "      <th>hour</th>\n",
       "      <th>date_newyear_num</th>\n",
       "      <th>count</th>\n",
       "    </tr>\n",
       "  </thead>\n",
       "  <tbody>\n",
       "    <tr>\n",
       "      <td>count</td>\n",
       "      <td>10886.000000</td>\n",
       "      <td>10886.000000</td>\n",
       "      <td>10886.000000</td>\n",
       "      <td>10886.000000</td>\n",
       "      <td>10886.00000</td>\n",
       "      <td>10886.000000</td>\n",
       "      <td>10886.000000</td>\n",
       "      <td>10886.000000</td>\n",
       "      <td>10886.000000</td>\n",
       "      <td>10886.000000</td>\n",
       "      <td>10886.000000</td>\n",
       "    </tr>\n",
       "    <tr>\n",
       "      <td>mean</td>\n",
       "      <td>2.506614</td>\n",
       "      <td>0.028569</td>\n",
       "      <td>0.680875</td>\n",
       "      <td>1.418427</td>\n",
       "      <td>20.23086</td>\n",
       "      <td>23.655084</td>\n",
       "      <td>61.886460</td>\n",
       "      <td>12.799395</td>\n",
       "      <td>11.541613</td>\n",
       "      <td>176.562466</td>\n",
       "      <td>191.574132</td>\n",
       "    </tr>\n",
       "    <tr>\n",
       "      <td>std</td>\n",
       "      <td>1.116174</td>\n",
       "      <td>0.166599</td>\n",
       "      <td>0.466159</td>\n",
       "      <td>0.633839</td>\n",
       "      <td>7.79159</td>\n",
       "      <td>8.474601</td>\n",
       "      <td>19.245033</td>\n",
       "      <td>8.164537</td>\n",
       "      <td>6.915838</td>\n",
       "      <td>105.055551</td>\n",
       "      <td>181.144454</td>\n",
       "    </tr>\n",
       "    <tr>\n",
       "      <td>min</td>\n",
       "      <td>1.000000</td>\n",
       "      <td>0.000000</td>\n",
       "      <td>0.000000</td>\n",
       "      <td>1.000000</td>\n",
       "      <td>0.82000</td>\n",
       "      <td>0.760000</td>\n",
       "      <td>0.000000</td>\n",
       "      <td>0.000000</td>\n",
       "      <td>0.000000</td>\n",
       "      <td>0.000000</td>\n",
       "      <td>1.000000</td>\n",
       "    </tr>\n",
       "    <tr>\n",
       "      <td>25%</td>\n",
       "      <td>2.000000</td>\n",
       "      <td>0.000000</td>\n",
       "      <td>0.000000</td>\n",
       "      <td>1.000000</td>\n",
       "      <td>13.94000</td>\n",
       "      <td>16.665000</td>\n",
       "      <td>47.000000</td>\n",
       "      <td>7.001500</td>\n",
       "      <td>6.000000</td>\n",
       "      <td>91.000000</td>\n",
       "      <td>42.000000</td>\n",
       "    </tr>\n",
       "    <tr>\n",
       "      <td>50%</td>\n",
       "      <td>3.000000</td>\n",
       "      <td>0.000000</td>\n",
       "      <td>1.000000</td>\n",
       "      <td>1.000000</td>\n",
       "      <td>20.50000</td>\n",
       "      <td>24.240000</td>\n",
       "      <td>62.000000</td>\n",
       "      <td>12.998000</td>\n",
       "      <td>12.000000</td>\n",
       "      <td>181.500000</td>\n",
       "      <td>145.000000</td>\n",
       "    </tr>\n",
       "    <tr>\n",
       "      <td>75%</td>\n",
       "      <td>4.000000</td>\n",
       "      <td>0.000000</td>\n",
       "      <td>1.000000</td>\n",
       "      <td>2.000000</td>\n",
       "      <td>26.24000</td>\n",
       "      <td>31.060000</td>\n",
       "      <td>77.000000</td>\n",
       "      <td>16.997900</td>\n",
       "      <td>18.000000</td>\n",
       "      <td>273.000000</td>\n",
       "      <td>284.000000</td>\n",
       "    </tr>\n",
       "    <tr>\n",
       "      <td>max</td>\n",
       "      <td>4.000000</td>\n",
       "      <td>1.000000</td>\n",
       "      <td>1.000000</td>\n",
       "      <td>4.000000</td>\n",
       "      <td>41.00000</td>\n",
       "      <td>45.455000</td>\n",
       "      <td>100.000000</td>\n",
       "      <td>56.996900</td>\n",
       "      <td>23.000000</td>\n",
       "      <td>353.000000</td>\n",
       "      <td>977.000000</td>\n",
       "    </tr>\n",
       "  </tbody>\n",
       "</table>\n",
       "</div>"
      ],
      "text/plain": [
       "             season       holiday    workingday       weather         temp  \\\n",
       "count  10886.000000  10886.000000  10886.000000  10886.000000  10886.00000   \n",
       "mean       2.506614      0.028569      0.680875      1.418427     20.23086   \n",
       "std        1.116174      0.166599      0.466159      0.633839      7.79159   \n",
       "min        1.000000      0.000000      0.000000      1.000000      0.82000   \n",
       "25%        2.000000      0.000000      0.000000      1.000000     13.94000   \n",
       "50%        3.000000      0.000000      1.000000      1.000000     20.50000   \n",
       "75%        4.000000      0.000000      1.000000      2.000000     26.24000   \n",
       "max        4.000000      1.000000      1.000000      4.000000     41.00000   \n",
       "\n",
       "              atemp      humidity     windspeed          hour  \\\n",
       "count  10886.000000  10886.000000  10886.000000  10886.000000   \n",
       "mean      23.655084     61.886460     12.799395     11.541613   \n",
       "std        8.474601     19.245033      8.164537      6.915838   \n",
       "min        0.760000      0.000000      0.000000      0.000000   \n",
       "25%       16.665000     47.000000      7.001500      6.000000   \n",
       "50%       24.240000     62.000000     12.998000     12.000000   \n",
       "75%       31.060000     77.000000     16.997900     18.000000   \n",
       "max       45.455000    100.000000     56.996900     23.000000   \n",
       "\n",
       "       date_newyear_num         count  \n",
       "count      10886.000000  10886.000000  \n",
       "mean         176.562466    191.574132  \n",
       "std          105.055551    181.144454  \n",
       "min            0.000000      1.000000  \n",
       "25%           91.000000     42.000000  \n",
       "50%          181.500000    145.000000  \n",
       "75%          273.000000    284.000000  \n",
       "max          353.000000    977.000000  "
      ]
     },
     "execution_count": 34,
     "metadata": {},
     "output_type": "execute_result"
    }
   ],
   "source": [
    "df_bike_data.describe()"
   ]
  },
  {
   "cell_type": "code",
   "execution_count": 35,
   "metadata": {},
   "outputs": [],
   "source": [
    "outliers=np.abs(df_bike_data[\"count\"]-df_bike_data[\"count\"].mean()) >(3*df_bike_data[\"count\"].std())"
   ]
  },
  {
   "cell_type": "code",
   "execution_count": 36,
   "metadata": {},
   "outputs": [],
   "source": [
    "outliers = pd.DataFrame(outliers)"
   ]
  },
  {
   "cell_type": "code",
   "execution_count": 37,
   "metadata": {},
   "outputs": [
    {
     "data": {
      "text/html": [
       "<div>\n",
       "<style scoped>\n",
       "    .dataframe tbody tr th:only-of-type {\n",
       "        vertical-align: middle;\n",
       "    }\n",
       "\n",
       "    .dataframe tbody tr th {\n",
       "        vertical-align: top;\n",
       "    }\n",
       "\n",
       "    .dataframe thead th {\n",
       "        text-align: right;\n",
       "    }\n",
       "</style>\n",
       "<table border=\"1\" class=\"dataframe\">\n",
       "  <thead>\n",
       "    <tr style=\"text-align: right;\">\n",
       "      <th></th>\n",
       "      <th>count</th>\n",
       "    </tr>\n",
       "  </thead>\n",
       "  <tbody>\n",
       "    <tr>\n",
       "      <td>0</td>\n",
       "      <td>False</td>\n",
       "    </tr>\n",
       "    <tr>\n",
       "      <td>1</td>\n",
       "      <td>False</td>\n",
       "    </tr>\n",
       "    <tr>\n",
       "      <td>2</td>\n",
       "      <td>False</td>\n",
       "    </tr>\n",
       "    <tr>\n",
       "      <td>3</td>\n",
       "      <td>False</td>\n",
       "    </tr>\n",
       "    <tr>\n",
       "      <td>4</td>\n",
       "      <td>False</td>\n",
       "    </tr>\n",
       "    <tr>\n",
       "      <td>...</td>\n",
       "      <td>...</td>\n",
       "    </tr>\n",
       "    <tr>\n",
       "      <td>10881</td>\n",
       "      <td>False</td>\n",
       "    </tr>\n",
       "    <tr>\n",
       "      <td>10882</td>\n",
       "      <td>False</td>\n",
       "    </tr>\n",
       "    <tr>\n",
       "      <td>10883</td>\n",
       "      <td>False</td>\n",
       "    </tr>\n",
       "    <tr>\n",
       "      <td>10884</td>\n",
       "      <td>False</td>\n",
       "    </tr>\n",
       "    <tr>\n",
       "      <td>10885</td>\n",
       "      <td>False</td>\n",
       "    </tr>\n",
       "  </tbody>\n",
       "</table>\n",
       "<p>10886 rows × 1 columns</p>\n",
       "</div>"
      ],
      "text/plain": [
       "       count\n",
       "0      False\n",
       "1      False\n",
       "2      False\n",
       "3      False\n",
       "4      False\n",
       "...      ...\n",
       "10881  False\n",
       "10882  False\n",
       "10883  False\n",
       "10884  False\n",
       "10885  False\n",
       "\n",
       "[10886 rows x 1 columns]"
      ]
     },
     "execution_count": 37,
     "metadata": {},
     "output_type": "execute_result"
    }
   ],
   "source": [
    "outliers"
   ]
  },
  {
   "cell_type": "code",
   "execution_count": 38,
   "metadata": {},
   "outputs": [
    {
     "data": {
      "text/plain": [
       "datetime            2012-03-14 17:00:00\n",
       "season                                1\n",
       "holiday                               0\n",
       "workingday                            1\n",
       "weather                               1\n",
       "temp                               28.7\n",
       "atemp                             31.82\n",
       "humidity                             28\n",
       "windspeed                        6.0032\n",
       "hour                                 17\n",
       "date                         2012-03-14\n",
       "weekday                       Wednesday\n",
       "date_newyear_num                     73\n",
       "count                               782\n",
       "Name: 6658, dtype: object"
      ]
     },
     "execution_count": 38,
     "metadata": {},
     "output_type": "execute_result"
    }
   ],
   "source": [
    "df_bike_data.iloc[6658]"
   ]
  },
  {
   "cell_type": "code",
   "execution_count": 39,
   "metadata": {},
   "outputs": [],
   "source": [
    "\n",
    "outliers_list = outliers.loc[outliers[\"count\"]==True]._stat_axis.values.tolist()"
   ]
  },
  {
   "cell_type": "code",
   "execution_count": 40,
   "metadata": {},
   "outputs": [
    {
     "data": {
      "text/plain": [
       "147"
      ]
     },
     "execution_count": 40,
     "metadata": {},
     "output_type": "execute_result"
    }
   ],
   "source": [
    "len(outliers_list)"
   ]
  },
  {
   "cell_type": "code",
   "execution_count": 41,
   "metadata": {},
   "outputs": [
    {
     "name": "stdout",
     "output_type": "stream",
     "text": [
      "<class 'pandas.core.frame.DataFrame'>\n",
      "Int64Index: 10739 entries, 0 to 10885\n",
      "Data columns (total 14 columns):\n",
      "datetime            10739 non-null object\n",
      "season              10739 non-null int64\n",
      "holiday             10739 non-null int64\n",
      "workingday          10739 non-null int64\n",
      "weather             10739 non-null int64\n",
      "temp                10739 non-null float64\n",
      "atemp               10739 non-null float64\n",
      "humidity            10739 non-null int64\n",
      "windspeed           10739 non-null float64\n",
      "hour                10739 non-null int64\n",
      "date                10739 non-null object\n",
      "weekday             10739 non-null object\n",
      "date_newyear_num    10739 non-null int64\n",
      "count               10739 non-null int64\n",
      "dtypes: float64(3), int64(8), object(3)\n",
      "memory usage: 1.2+ MB\n"
     ]
    }
   ],
   "source": [
    "df_bike_data = df_bike_data.drop(index=outliers_list)\n",
    "df_bike_data.info()"
   ]
  },
  {
   "cell_type": "markdown",
   "metadata": {},
   "source": [
    "This is a regression problem, so if the target value follows a normal distribution, it will work well for many models."
   ]
  },
  {
   "cell_type": "code",
   "execution_count": 42,
   "metadata": {},
   "outputs": [
    {
     "data": {
      "text/plain": [
       "<matplotlib.axes._subplots.AxesSubplot at 0x214d4a91b88>"
      ]
     },
     "execution_count": 42,
     "metadata": {},
     "output_type": "execute_result"
    },
    {
     "data": {
      "image/png": "[encoded data removed]",
      "text/plain": [
       "<Figure size 432x288 with 1 Axes>"
      ]
     },
     "metadata": {
      "needs_background": "light"
     },
     "output_type": "display_data"
    }
   ],
   "source": [
    "df_bike_data[\"count\"].plot(kind = 'kde')"
   ]
  },
  {
   "cell_type": "markdown",
   "metadata": {},
   "source": [
    "This graph is not a good normal distribution. Therefore, it may be difficult to use a linear model."
   ]
  },
  {
   "cell_type": "code",
   "execution_count": 44,
   "metadata": {},
   "outputs": [],
   "source": [
    "\n",
    "df_bike_data=pd.get_dummies(df_bike_data,columns=['season'])\n",
    "df_bike_data=pd.get_dummies(df_bike_data,columns=['weather'])\n"
   ]
  },
  {
   "cell_type": "code",
   "execution_count": 45,
   "metadata": {},
   "outputs": [],
   "source": [
    "df_bike_data=pd.get_dummies(df_bike_data,columns=['weekday'])"
   ]
  },
  {
   "cell_type": "code",
   "execution_count": 46,
   "metadata": {},
   "outputs": [
    {
     "data": {
      "text/plain": [
       "array(['datetime', 'holiday', 'workingday', 'temp', 'atemp', 'humidity',\n",
       "       'windspeed', 'hour', 'date', 'date_newyear_num', 'count',\n",
       "       'season_1', 'season_2', 'season_3', 'season_4', 'weather_1',\n",
       "       'weather_2', 'weather_3', 'weather_4', 'weekday_Friday',\n",
       "       'weekday_Monday', 'weekday_Saturday', 'weekday_Sunday',\n",
       "       'weekday_Thursday', 'weekday_Tuesday', 'weekday_Wednesday'],\n",
       "      dtype=object)"
      ]
     },
     "execution_count": 46,
     "metadata": {},
     "output_type": "execute_result"
    }
   ],
   "source": [
    "df_bike_data.columns.values"
   ]
  },
  {
   "cell_type": "code",
   "execution_count": 48,
   "metadata": {},
   "outputs": [
    {
     "data": {
      "text/html": [
       "<div>\n",
       "<style scoped>\n",
       "    .dataframe tbody tr th:only-of-type {\n",
       "        vertical-align: middle;\n",
       "    }\n",
       "\n",
       "    .dataframe tbody tr th {\n",
       "        vertical-align: top;\n",
       "    }\n",
       "\n",
       "    .dataframe thead th {\n",
       "        text-align: right;\n",
       "    }\n",
       "</style>\n",
       "<table border=\"1\" class=\"dataframe\">\n",
       "  <thead>\n",
       "    <tr style=\"text-align: right;\">\n",
       "      <th></th>\n",
       "      <th>datetime</th>\n",
       "      <th>holiday</th>\n",
       "      <th>workingday</th>\n",
       "      <th>temp</th>\n",
       "      <th>atemp</th>\n",
       "      <th>humidity</th>\n",
       "      <th>windspeed</th>\n",
       "      <th>hour</th>\n",
       "      <th>date</th>\n",
       "      <th>date_newyear_num</th>\n",
       "      <th>...</th>\n",
       "      <th>weather_2</th>\n",
       "      <th>weather_3</th>\n",
       "      <th>weather_4</th>\n",
       "      <th>weekday_Friday</th>\n",
       "      <th>weekday_Monday</th>\n",
       "      <th>weekday_Saturday</th>\n",
       "      <th>weekday_Sunday</th>\n",
       "      <th>weekday_Thursday</th>\n",
       "      <th>weekday_Tuesday</th>\n",
       "      <th>weekday_Wednesday</th>\n",
       "    </tr>\n",
       "  </thead>\n",
       "  <tbody>\n",
       "    <tr>\n",
       "      <td>0</td>\n",
       "      <td>2011-01-01 00:00:00</td>\n",
       "      <td>0</td>\n",
       "      <td>0</td>\n",
       "      <td>9.84</td>\n",
       "      <td>14.395</td>\n",
       "      <td>81</td>\n",
       "      <td>0.0000</td>\n",
       "      <td>0</td>\n",
       "      <td>2011-01-01</td>\n",
       "      <td>0</td>\n",
       "      <td>...</td>\n",
       "      <td>0</td>\n",
       "      <td>0</td>\n",
       "      <td>0</td>\n",
       "      <td>0</td>\n",
       "      <td>0</td>\n",
       "      <td>1</td>\n",
       "      <td>0</td>\n",
       "      <td>0</td>\n",
       "      <td>0</td>\n",
       "      <td>0</td>\n",
       "    </tr>\n",
       "    <tr>\n",
       "      <td>1</td>\n",
       "      <td>2011-01-01 01:00:00</td>\n",
       "      <td>0</td>\n",
       "      <td>0</td>\n",
       "      <td>9.02</td>\n",
       "      <td>13.635</td>\n",
       "      <td>80</td>\n",
       "      <td>0.0000</td>\n",
       "      <td>1</td>\n",
       "      <td>2011-01-01</td>\n",
       "      <td>0</td>\n",
       "      <td>...</td>\n",
       "      <td>0</td>\n",
       "      <td>0</td>\n",
       "      <td>0</td>\n",
       "      <td>0</td>\n",
       "      <td>0</td>\n",
       "      <td>1</td>\n",
       "      <td>0</td>\n",
       "      <td>0</td>\n",
       "      <td>0</td>\n",
       "      <td>0</td>\n",
       "    </tr>\n",
       "    <tr>\n",
       "      <td>2</td>\n",
       "      <td>2011-01-01 02:00:00</td>\n",
       "      <td>0</td>\n",
       "      <td>0</td>\n",
       "      <td>9.02</td>\n",
       "      <td>13.635</td>\n",
       "      <td>80</td>\n",
       "      <td>0.0000</td>\n",
       "      <td>2</td>\n",
       "      <td>2011-01-01</td>\n",
       "      <td>0</td>\n",
       "      <td>...</td>\n",
       "      <td>0</td>\n",
       "      <td>0</td>\n",
       "      <td>0</td>\n",
       "      <td>0</td>\n",
       "      <td>0</td>\n",
       "      <td>1</td>\n",
       "      <td>0</td>\n",
       "      <td>0</td>\n",
       "      <td>0</td>\n",
       "      <td>0</td>\n",
       "    </tr>\n",
       "    <tr>\n",
       "      <td>3</td>\n",
       "      <td>2011-01-01 03:00:00</td>\n",
       "      <td>0</td>\n",
       "      <td>0</td>\n",
       "      <td>9.84</td>\n",
       "      <td>14.395</td>\n",
       "      <td>75</td>\n",
       "      <td>0.0000</td>\n",
       "      <td>3</td>\n",
       "      <td>2011-01-01</td>\n",
       "      <td>0</td>\n",
       "      <td>...</td>\n",
       "      <td>0</td>\n",
       "      <td>0</td>\n",
       "      <td>0</td>\n",
       "      <td>0</td>\n",
       "      <td>0</td>\n",
       "      <td>1</td>\n",
       "      <td>0</td>\n",
       "      <td>0</td>\n",
       "      <td>0</td>\n",
       "      <td>0</td>\n",
       "    </tr>\n",
       "    <tr>\n",
       "      <td>4</td>\n",
       "      <td>2011-01-01 04:00:00</td>\n",
       "      <td>0</td>\n",
       "      <td>0</td>\n",
       "      <td>9.84</td>\n",
       "      <td>14.395</td>\n",
       "      <td>75</td>\n",
       "      <td>0.0000</td>\n",
       "      <td>4</td>\n",
       "      <td>2011-01-01</td>\n",
       "      <td>0</td>\n",
       "      <td>...</td>\n",
       "      <td>0</td>\n",
       "      <td>0</td>\n",
       "      <td>0</td>\n",
       "      <td>0</td>\n",
       "      <td>0</td>\n",
       "      <td>1</td>\n",
       "      <td>0</td>\n",
       "      <td>0</td>\n",
       "      <td>0</td>\n",
       "      <td>0</td>\n",
       "    </tr>\n",
       "    <tr>\n",
       "      <td>...</td>\n",
       "      <td>...</td>\n",
       "      <td>...</td>\n",
       "      <td>...</td>\n",
       "      <td>...</td>\n",
       "      <td>...</td>\n",
       "      <td>...</td>\n",
       "      <td>...</td>\n",
       "      <td>...</td>\n",
       "      <td>...</td>\n",
       "      <td>...</td>\n",
       "      <td>...</td>\n",
       "      <td>...</td>\n",
       "      <td>...</td>\n",
       "      <td>...</td>\n",
       "      <td>...</td>\n",
       "      <td>...</td>\n",
       "      <td>...</td>\n",
       "      <td>...</td>\n",
       "      <td>...</td>\n",
       "      <td>...</td>\n",
       "      <td>...</td>\n",
       "    </tr>\n",
       "    <tr>\n",
       "      <td>10881</td>\n",
       "      <td>2012-12-19 19:00:00</td>\n",
       "      <td>0</td>\n",
       "      <td>1</td>\n",
       "      <td>15.58</td>\n",
       "      <td>19.695</td>\n",
       "      <td>50</td>\n",
       "      <td>26.0027</td>\n",
       "      <td>19</td>\n",
       "      <td>2012-12-19</td>\n",
       "      <td>353</td>\n",
       "      <td>...</td>\n",
       "      <td>0</td>\n",
       "      <td>0</td>\n",
       "      <td>0</td>\n",
       "      <td>0</td>\n",
       "      <td>0</td>\n",
       "      <td>0</td>\n",
       "      <td>0</td>\n",
       "      <td>0</td>\n",
       "      <td>0</td>\n",
       "      <td>1</td>\n",
       "    </tr>\n",
       "    <tr>\n",
       "      <td>10882</td>\n",
       "      <td>2012-12-19 20:00:00</td>\n",
       "      <td>0</td>\n",
       "      <td>1</td>\n",
       "      <td>14.76</td>\n",
       "      <td>17.425</td>\n",
       "      <td>57</td>\n",
       "      <td>15.0013</td>\n",
       "      <td>20</td>\n",
       "      <td>2012-12-19</td>\n",
       "      <td>353</td>\n",
       "      <td>...</td>\n",
       "      <td>0</td>\n",
       "      <td>0</td>\n",
       "      <td>0</td>\n",
       "      <td>0</td>\n",
       "      <td>0</td>\n",
       "      <td>0</td>\n",
       "      <td>0</td>\n",
       "      <td>0</td>\n",
       "      <td>0</td>\n",
       "      <td>1</td>\n",
       "    </tr>\n",
       "    <tr>\n",
       "      <td>10883</td>\n",
       "      <td>2012-12-19 21:00:00</td>\n",
       "      <td>0</td>\n",
       "      <td>1</td>\n",
       "      <td>13.94</td>\n",
       "      <td>15.910</td>\n",
       "      <td>61</td>\n",
       "      <td>15.0013</td>\n",
       "      <td>21</td>\n",
       "      <td>2012-12-19</td>\n",
       "      <td>353</td>\n",
       "      <td>...</td>\n",
       "      <td>0</td>\n",
       "      <td>0</td>\n",
       "      <td>0</td>\n",
       "      <td>0</td>\n",
       "      <td>0</td>\n",
       "      <td>0</td>\n",
       "      <td>0</td>\n",
       "      <td>0</td>\n",
       "      <td>0</td>\n",
       "      <td>1</td>\n",
       "    </tr>\n",
       "    <tr>\n",
       "      <td>10884</td>\n",
       "      <td>2012-12-19 22:00:00</td>\n",
       "      <td>0</td>\n",
       "      <td>1</td>\n",
       "      <td>13.94</td>\n",
       "      <td>17.425</td>\n",
       "      <td>61</td>\n",
       "      <td>6.0032</td>\n",
       "      <td>22</td>\n",
       "      <td>2012-12-19</td>\n",
       "      <td>353</td>\n",
       "      <td>...</td>\n",
       "      <td>0</td>\n",
       "      <td>0</td>\n",
       "      <td>0</td>\n",
       "      <td>0</td>\n",
       "      <td>0</td>\n",
       "      <td>0</td>\n",
       "      <td>0</td>\n",
       "      <td>0</td>\n",
       "      <td>0</td>\n",
       "      <td>1</td>\n",
       "    </tr>\n",
       "    <tr>\n",
       "      <td>10885</td>\n",
       "      <td>2012-12-19 23:00:00</td>\n",
       "      <td>0</td>\n",
       "      <td>1</td>\n",
       "      <td>13.12</td>\n",
       "      <td>16.665</td>\n",
       "      <td>66</td>\n",
       "      <td>8.9981</td>\n",
       "      <td>23</td>\n",
       "      <td>2012-12-19</td>\n",
       "      <td>353</td>\n",
       "      <td>...</td>\n",
       "      <td>0</td>\n",
       "      <td>0</td>\n",
       "      <td>0</td>\n",
       "      <td>0</td>\n",
       "      <td>0</td>\n",
       "      <td>0</td>\n",
       "      <td>0</td>\n",
       "      <td>0</td>\n",
       "      <td>0</td>\n",
       "      <td>1</td>\n",
       "    </tr>\n",
       "  </tbody>\n",
       "</table>\n",
       "<p>10739 rows × 26 columns</p>\n",
       "</div>"
      ],
      "text/plain": [
       "                  datetime  holiday  workingday   temp   atemp  humidity  \\\n",
       "0      2011-01-01 00:00:00        0           0   9.84  14.395        81   \n",
       "1      2011-01-01 01:00:00        0           0   9.02  13.635        80   \n",
       "2      2011-01-01 02:00:00        0           0   9.02  13.635        80   \n",
       "3      2011-01-01 03:00:00        0           0   9.84  14.395        75   \n",
       "4      2011-01-01 04:00:00        0           0   9.84  14.395        75   \n",
       "...                    ...      ...         ...    ...     ...       ...   \n",
       "10881  2012-12-19 19:00:00        0           1  15.58  19.695        50   \n",
       "10882  2012-12-19 20:00:00        0           1  14.76  17.425        57   \n",
       "10883  2012-12-19 21:00:00        0           1  13.94  15.910        61   \n",
       "10884  2012-12-19 22:00:00        0           1  13.94  17.425        61   \n",
       "10885  2012-12-19 23:00:00        0           1  13.12  16.665        66   \n",
       "\n",
       "       windspeed  hour        date  date_newyear_num  ...  weather_2  \\\n",
       "0         0.0000     0  2011-01-01                 0  ...          0   \n",
       "1         0.0000     1  2011-01-01                 0  ...          0   \n",
       "2         0.0000     2  2011-01-01                 0  ...          0   \n",
       "3         0.0000     3  2011-01-01                 0  ...          0   \n",
       "4         0.0000     4  2011-01-01                 0  ...          0   \n",
       "...          ...   ...         ...               ...  ...        ...   \n",
       "10881    26.0027    19  2012-12-19               353  ...          0   \n",
       "10882    15.0013    20  2012-12-19               353  ...          0   \n",
       "10883    15.0013    21  2012-12-19               353  ...          0   \n",
       "10884     6.0032    22  2012-12-19               353  ...          0   \n",
       "10885     8.9981    23  2012-12-19               353  ...          0   \n",
       "\n",
       "       weather_3  weather_4  weekday_Friday  weekday_Monday  weekday_Saturday  \\\n",
       "0              0          0               0               0                 1   \n",
       "1              0          0               0               0                 1   \n",
       "2              0          0               0               0                 1   \n",
       "3              0          0               0               0                 1   \n",
       "4              0          0               0               0                 1   \n",
       "...          ...        ...             ...             ...               ...   \n",
       "10881          0          0               0               0                 0   \n",
       "10882          0          0               0               0                 0   \n",
       "10883          0          0               0               0                 0   \n",
       "10884          0          0               0               0                 0   \n",
       "10885          0          0               0               0                 0   \n",
       "\n",
       "       weekday_Sunday  weekday_Thursday  weekday_Tuesday  weekday_Wednesday  \n",
       "0                   0                 0                0                  0  \n",
       "1                   0                 0                0                  0  \n",
       "2                   0                 0                0                  0  \n",
       "3                   0                 0                0                  0  \n",
       "4                   0                 0                0                  0  \n",
       "...               ...               ...              ...                ...  \n",
       "10881               0                 0                0                  1  \n",
       "10882               0                 0                0                  1  \n",
       "10883               0                 0                0                  1  \n",
       "10884               0                 0                0                  1  \n",
       "10885               0                 0                0                  1  \n",
       "\n",
       "[10739 rows x 26 columns]"
      ]
     },
     "execution_count": 48,
     "metadata": {},
     "output_type": "execute_result"
    }
   ],
   "source": [
    "df_bike_data.to_csv(\"bike_data_new.csv\")\n",
    "df_bike_data"
   ]
  },
  {
   "cell_type": "markdown",
   "metadata": {},
   "source": [
    "machine learning"
   ]
  },
  {
   "cell_type": "code",
   "execution_count": 5,
   "metadata": {},
   "outputs": [],
   "source": [
    "df = pd.read_csv(\"bike_data_new.csv\", index_col=0)"
   ]
  },
  {
   "cell_type": "code",
   "execution_count": 6,
   "metadata": {},
   "outputs": [],
   "source": [
    "X_feature = [col for col in df.columns.values if col != 'count' and col != \"datetime\" and col != \"date\"]\n",
    "y_feature = ['count']\n",
    "X = df.loc[:,X_feature]\n",
    "y = df.loc[:,y_feature]"
   ]
  },
  {
   "cell_type": "code",
   "execution_count": 57,
   "metadata": {},
   "outputs": [],
   "source": [
    "from sklearn.model_selection import train_test_split\n",
    "X_train, X_test, y_train, y_test = train_test_split(X, y, test_size=0.3)"
   ]
  },
  {
   "cell_type": "code",
   "execution_count": 58,
   "metadata": {},
   "outputs": [
    {
     "data": {
      "text/html": [
       "<div>\n",
       "<style scoped>\n",
       "    .dataframe tbody tr th:only-of-type {\n",
       "        vertical-align: middle;\n",
       "    }\n",
       "\n",
       "    .dataframe tbody tr th {\n",
       "        vertical-align: top;\n",
       "    }\n",
       "\n",
       "    .dataframe thead th {\n",
       "        text-align: right;\n",
       "    }\n",
       "</style>\n",
       "<table border=\"1\" class=\"dataframe\">\n",
       "  <thead>\n",
       "    <tr style=\"text-align: right;\">\n",
       "      <th></th>\n",
       "      <th>holiday</th>\n",
       "      <th>workingday</th>\n",
       "      <th>temp</th>\n",
       "      <th>atemp</th>\n",
       "      <th>humidity</th>\n",
       "      <th>windspeed</th>\n",
       "      <th>hour</th>\n",
       "      <th>date_newyear_num</th>\n",
       "      <th>season_1</th>\n",
       "      <th>season_2</th>\n",
       "      <th>...</th>\n",
       "      <th>weather_2</th>\n",
       "      <th>weather_3</th>\n",
       "      <th>weather_4</th>\n",
       "      <th>weekday_Friday</th>\n",
       "      <th>weekday_Monday</th>\n",
       "      <th>weekday_Saturday</th>\n",
       "      <th>weekday_Sunday</th>\n",
       "      <th>weekday_Thursday</th>\n",
       "      <th>weekday_Tuesday</th>\n",
       "      <th>weekday_Wednesday</th>\n",
       "    </tr>\n",
       "  </thead>\n",
       "  <tbody>\n",
       "    <tr>\n",
       "      <td>10230</td>\n",
       "      <td>0</td>\n",
       "      <td>0</td>\n",
       "      <td>22.14</td>\n",
       "      <td>25.760</td>\n",
       "      <td>42</td>\n",
       "      <td>15.0013</td>\n",
       "      <td>16</td>\n",
       "      <td>315</td>\n",
       "      <td>0</td>\n",
       "      <td>0</td>\n",
       "      <td>...</td>\n",
       "      <td>0</td>\n",
       "      <td>0</td>\n",
       "      <td>0</td>\n",
       "      <td>0</td>\n",
       "      <td>0</td>\n",
       "      <td>0</td>\n",
       "      <td>1</td>\n",
       "      <td>0</td>\n",
       "      <td>0</td>\n",
       "      <td>0</td>\n",
       "    </tr>\n",
       "    <tr>\n",
       "      <td>5312</td>\n",
       "      <td>0</td>\n",
       "      <td>1</td>\n",
       "      <td>16.40</td>\n",
       "      <td>20.455</td>\n",
       "      <td>58</td>\n",
       "      <td>19.9995</td>\n",
       "      <td>10</td>\n",
       "      <td>348</td>\n",
       "      <td>0</td>\n",
       "      <td>0</td>\n",
       "      <td>...</td>\n",
       "      <td>1</td>\n",
       "      <td>0</td>\n",
       "      <td>0</td>\n",
       "      <td>0</td>\n",
       "      <td>0</td>\n",
       "      <td>0</td>\n",
       "      <td>0</td>\n",
       "      <td>1</td>\n",
       "      <td>0</td>\n",
       "      <td>0</td>\n",
       "    </tr>\n",
       "    <tr>\n",
       "      <td>1568</td>\n",
       "      <td>0</td>\n",
       "      <td>1</td>\n",
       "      <td>18.86</td>\n",
       "      <td>22.725</td>\n",
       "      <td>100</td>\n",
       "      <td>15.0013</td>\n",
       "      <td>6</td>\n",
       "      <td>100</td>\n",
       "      <td>0</td>\n",
       "      <td>1</td>\n",
       "      <td>...</td>\n",
       "      <td>1</td>\n",
       "      <td>0</td>\n",
       "      <td>0</td>\n",
       "      <td>0</td>\n",
       "      <td>1</td>\n",
       "      <td>0</td>\n",
       "      <td>0</td>\n",
       "      <td>0</td>\n",
       "      <td>0</td>\n",
       "      <td>0</td>\n",
       "    </tr>\n",
       "    <tr>\n",
       "      <td>10447</td>\n",
       "      <td>0</td>\n",
       "      <td>0</td>\n",
       "      <td>13.94</td>\n",
       "      <td>17.425</td>\n",
       "      <td>76</td>\n",
       "      <td>7.0015</td>\n",
       "      <td>17</td>\n",
       "      <td>335</td>\n",
       "      <td>0</td>\n",
       "      <td>0</td>\n",
       "      <td>...</td>\n",
       "      <td>1</td>\n",
       "      <td>0</td>\n",
       "      <td>0</td>\n",
       "      <td>0</td>\n",
       "      <td>0</td>\n",
       "      <td>1</td>\n",
       "      <td>0</td>\n",
       "      <td>0</td>\n",
       "      <td>0</td>\n",
       "      <td>0</td>\n",
       "    </tr>\n",
       "    <tr>\n",
       "      <td>6754</td>\n",
       "      <td>0</td>\n",
       "      <td>0</td>\n",
       "      <td>22.96</td>\n",
       "      <td>26.515</td>\n",
       "      <td>64</td>\n",
       "      <td>6.0032</td>\n",
       "      <td>17</td>\n",
       "      <td>77</td>\n",
       "      <td>1</td>\n",
       "      <td>0</td>\n",
       "      <td>...</td>\n",
       "      <td>0</td>\n",
       "      <td>0</td>\n",
       "      <td>0</td>\n",
       "      <td>0</td>\n",
       "      <td>0</td>\n",
       "      <td>0</td>\n",
       "      <td>1</td>\n",
       "      <td>0</td>\n",
       "      <td>0</td>\n",
       "      <td>0</td>\n",
       "    </tr>\n",
       "    <tr>\n",
       "      <td>...</td>\n",
       "      <td>...</td>\n",
       "      <td>...</td>\n",
       "      <td>...</td>\n",
       "      <td>...</td>\n",
       "      <td>...</td>\n",
       "      <td>...</td>\n",
       "      <td>...</td>\n",
       "      <td>...</td>\n",
       "      <td>...</td>\n",
       "      <td>...</td>\n",
       "      <td>...</td>\n",
       "      <td>...</td>\n",
       "      <td>...</td>\n",
       "      <td>...</td>\n",
       "      <td>...</td>\n",
       "      <td>...</td>\n",
       "      <td>...</td>\n",
       "      <td>...</td>\n",
       "      <td>...</td>\n",
       "      <td>...</td>\n",
       "      <td>...</td>\n",
       "    </tr>\n",
       "    <tr>\n",
       "      <td>5282</td>\n",
       "      <td>0</td>\n",
       "      <td>1</td>\n",
       "      <td>10.66</td>\n",
       "      <td>15.150</td>\n",
       "      <td>75</td>\n",
       "      <td>0.0000</td>\n",
       "      <td>4</td>\n",
       "      <td>347</td>\n",
       "      <td>0</td>\n",
       "      <td>0</td>\n",
       "      <td>...</td>\n",
       "      <td>0</td>\n",
       "      <td>0</td>\n",
       "      <td>0</td>\n",
       "      <td>0</td>\n",
       "      <td>0</td>\n",
       "      <td>0</td>\n",
       "      <td>0</td>\n",
       "      <td>0</td>\n",
       "      <td>0</td>\n",
       "      <td>1</td>\n",
       "    </tr>\n",
       "    <tr>\n",
       "      <td>7390</td>\n",
       "      <td>0</td>\n",
       "      <td>1</td>\n",
       "      <td>19.68</td>\n",
       "      <td>23.485</td>\n",
       "      <td>82</td>\n",
       "      <td>7.0015</td>\n",
       "      <td>7</td>\n",
       "      <td>127</td>\n",
       "      <td>0</td>\n",
       "      <td>1</td>\n",
       "      <td>...</td>\n",
       "      <td>1</td>\n",
       "      <td>0</td>\n",
       "      <td>0</td>\n",
       "      <td>0</td>\n",
       "      <td>1</td>\n",
       "      <td>0</td>\n",
       "      <td>0</td>\n",
       "      <td>0</td>\n",
       "      <td>0</td>\n",
       "      <td>0</td>\n",
       "    </tr>\n",
       "    <tr>\n",
       "      <td>7304</td>\n",
       "      <td>0</td>\n",
       "      <td>1</td>\n",
       "      <td>29.52</td>\n",
       "      <td>33.335</td>\n",
       "      <td>54</td>\n",
       "      <td>8.9981</td>\n",
       "      <td>17</td>\n",
       "      <td>123</td>\n",
       "      <td>0</td>\n",
       "      <td>1</td>\n",
       "      <td>...</td>\n",
       "      <td>0</td>\n",
       "      <td>0</td>\n",
       "      <td>0</td>\n",
       "      <td>0</td>\n",
       "      <td>0</td>\n",
       "      <td>0</td>\n",
       "      <td>0</td>\n",
       "      <td>1</td>\n",
       "      <td>0</td>\n",
       "      <td>0</td>\n",
       "    </tr>\n",
       "    <tr>\n",
       "      <td>6875</td>\n",
       "      <td>0</td>\n",
       "      <td>1</td>\n",
       "      <td>27.06</td>\n",
       "      <td>31.060</td>\n",
       "      <td>39</td>\n",
       "      <td>15.0013</td>\n",
       "      <td>19</td>\n",
       "      <td>94</td>\n",
       "      <td>0</td>\n",
       "      <td>1</td>\n",
       "      <td>...</td>\n",
       "      <td>0</td>\n",
       "      <td>0</td>\n",
       "      <td>0</td>\n",
       "      <td>0</td>\n",
       "      <td>0</td>\n",
       "      <td>0</td>\n",
       "      <td>0</td>\n",
       "      <td>0</td>\n",
       "      <td>0</td>\n",
       "      <td>1</td>\n",
       "    </tr>\n",
       "    <tr>\n",
       "      <td>4173</td>\n",
       "      <td>0</td>\n",
       "      <td>1</td>\n",
       "      <td>21.32</td>\n",
       "      <td>25.000</td>\n",
       "      <td>72</td>\n",
       "      <td>0.0000</td>\n",
       "      <td>22</td>\n",
       "      <td>277</td>\n",
       "      <td>0</td>\n",
       "      <td>0</td>\n",
       "      <td>...</td>\n",
       "      <td>0</td>\n",
       "      <td>0</td>\n",
       "      <td>0</td>\n",
       "      <td>0</td>\n",
       "      <td>0</td>\n",
       "      <td>0</td>\n",
       "      <td>0</td>\n",
       "      <td>0</td>\n",
       "      <td>0</td>\n",
       "      <td>1</td>\n",
       "    </tr>\n",
       "  </tbody>\n",
       "</table>\n",
       "<p>7517 rows × 23 columns</p>\n",
       "</div>"
      ],
      "text/plain": [
       "       holiday  workingday   temp   atemp  humidity  windspeed  hour  \\\n",
       "10230        0           0  22.14  25.760        42    15.0013    16   \n",
       "5312         0           1  16.40  20.455        58    19.9995    10   \n",
       "1568         0           1  18.86  22.725       100    15.0013     6   \n",
       "10447        0           0  13.94  17.425        76     7.0015    17   \n",
       "6754         0           0  22.96  26.515        64     6.0032    17   \n",
       "...        ...         ...    ...     ...       ...        ...   ...   \n",
       "5282         0           1  10.66  15.150        75     0.0000     4   \n",
       "7390         0           1  19.68  23.485        82     7.0015     7   \n",
       "7304         0           1  29.52  33.335        54     8.9981    17   \n",
       "6875         0           1  27.06  31.060        39    15.0013    19   \n",
       "4173         0           1  21.32  25.000        72     0.0000    22   \n",
       "\n",
       "       date_newyear_num  season_1  season_2  ...  weather_2  weather_3  \\\n",
       "10230               315         0         0  ...          0          0   \n",
       "5312                348         0         0  ...          1          0   \n",
       "1568                100         0         1  ...          1          0   \n",
       "10447               335         0         0  ...          1          0   \n",
       "6754                 77         1         0  ...          0          0   \n",
       "...                 ...       ...       ...  ...        ...        ...   \n",
       "5282                347         0         0  ...          0          0   \n",
       "7390                127         0         1  ...          1          0   \n",
       "7304                123         0         1  ...          0          0   \n",
       "6875                 94         0         1  ...          0          0   \n",
       "4173                277         0         0  ...          0          0   \n",
       "\n",
       "       weather_4  weekday_Friday  weekday_Monday  weekday_Saturday  \\\n",
       "10230          0               0               0                 0   \n",
       "5312           0               0               0                 0   \n",
       "1568           0               0               1                 0   \n",
       "10447          0               0               0                 1   \n",
       "6754           0               0               0                 0   \n",
       "...          ...             ...             ...               ...   \n",
       "5282           0               0               0                 0   \n",
       "7390           0               0               1                 0   \n",
       "7304           0               0               0                 0   \n",
       "6875           0               0               0                 0   \n",
       "4173           0               0               0                 0   \n",
       "\n",
       "       weekday_Sunday  weekday_Thursday  weekday_Tuesday  weekday_Wednesday  \n",
       "10230               1                 0                0                  0  \n",
       "5312                0                 1                0                  0  \n",
       "1568                0                 0                0                  0  \n",
       "10447               0                 0                0                  0  \n",
       "6754                1                 0                0                  0  \n",
       "...               ...               ...              ...                ...  \n",
       "5282                0                 0                0                  1  \n",
       "7390                0                 0                0                  0  \n",
       "7304                0                 1                0                  0  \n",
       "6875                0                 0                0                  1  \n",
       "4173                0                 0                0                  1  \n",
       "\n",
       "[7517 rows x 23 columns]"
      ]
     },
     "execution_count": 58,
     "metadata": {},
     "output_type": "execute_result"
    }
   ],
   "source": [
    "X_train"
   ]
  },
  {
   "cell_type": "code",
   "execution_count": 183,
   "metadata": {},
   "outputs": [],
   "source": [
    "from sklearn.linear_model import LinearRegression,Ridge,Lasso\n",
    "from sklearn.model_selection import GridSearchCV\n",
    "from sklearn import metrics\n",
    "from sklearn.ensemble import RandomForestRegressor,  GradientBoostingRegressor\n",
    "from tqdm import *\n",
    "from math import sqrt\n",
    "from sklearn.metrics import mean_squared_error, mean_squared_log_error\n",
    "from sklearn.externals import joblib"
   ]
  },
  {
   "cell_type": "code",
   "execution_count": 184,
   "metadata": {},
   "outputs": [],
   "source": [
    "def rmsle(y_test, y_pred):\n",
    "    return np.sqrt(mean_squared_log_error(y_test, y_pred))\n",
    "\n",
    "def rmse(y_test, y_pred):\n",
    "    return sqrt(mean_squared_error(y_test,y_pred))"
   ]
  },
  {
   "cell_type": "markdown",
   "metadata": {},
   "source": [
    "Ridge Regression"
   ]
  },
  {
   "cell_type": "code",
   "execution_count": 185,
   "metadata": {},
   "outputs": [
    {
     "data": {
      "text/plain": [
       "GridSearchCV(cv=5, error_score='raise-deprecating',\n",
       "             estimator=Ridge(alpha=1.0, copy_X=True, fit_intercept=True,\n",
       "                             max_iter=None, normalize=False, random_state=None,\n",
       "                             solver='auto', tol=0.001),\n",
       "             iid='warn', n_jobs=None,\n",
       "             param_grid={'alpha': [0.1, 1, 2, 3, 4, 10, 20, 30, 40, 50, 60, 70,\n",
       "                                   80, 90, 100, 200]},\n",
       "             pre_dispatch='2*n_jobs', refit=True, return_train_score=False,\n",
       "             scoring=make_scorer(rmse, greater_is_better=False), verbose=0)"
      ]
     },
     "execution_count": 185,
     "metadata": {},
     "output_type": "execute_result"
    }
   ],
   "source": [
    "estimator = Ridge()\n",
    "parameters = { \n",
    "    'alpha':[0.1, 1, 2, 3, 4, 10, 20, 30, 40, 50, 60, 70, 80, 90, 100,200]\n",
    "}\n",
    "rmse_scorer = metrics.make_scorer(rmse, greater_is_better=False)\n",
    "grid_Ridge = GridSearchCV( estimator,\n",
    "                          param_grid=parameters,\n",
    "                          scoring = rmse_scorer,\n",
    "                          cv=5)\n",
    "\n",
    "grid_Ridge.fit(X=X_train,y=y_train)"
   ]
  },
  {
   "cell_type": "code",
   "execution_count": 186,
   "metadata": {},
   "outputs": [
    {
     "name": "stdout",
     "output_type": "stream",
     "text": [
      "-134.399210  with:   {'alpha': 0.1}\n",
      "-134.398592  with:   {'alpha': 1}\n",
      "-134.398015  with:   {'alpha': 2}\n",
      "-134.397489  with:   {'alpha': 3}\n",
      "-134.396997  with:   {'alpha': 4}\n",
      "-134.394521  with:   {'alpha': 10}\n",
      "-134.391688  with:   {'alpha': 20}\n",
      "-134.390027  with:   {'alpha': 30}\n",
      "-134.389240  with:   {'alpha': 40}\n",
      "-134.389140  with:   {'alpha': 50}\n",
      "-134.389600  with:   {'alpha': 60}\n",
      "-134.390529  with:   {'alpha': 70}\n",
      "-134.391861  with:   {'alpha': 80}\n",
      "-134.393542  with:   {'alpha': 90}\n",
      "-134.395530  with:   {'alpha': 100}\n",
      "-134.426485  with:   {'alpha': 200}\n",
      "{'alpha': 50}\n",
      "-134.3891395440253\n"
     ]
    }
   ],
   "source": [
    "means = grid_Ridge.cv_results_['mean_test_score']\n",
    "params = grid_Ridge.cv_results_['params']\n",
    "for mean,param in zip(means,params):\n",
    "    print(\"%f  with:   %r\" % (mean,param))\n",
    "print(grid_Ridge.best_params_)\n",
    "print(grid_Ridge.best_score_)"
   ]
  },
  {
   "cell_type": "code",
   "execution_count": 187,
   "metadata": {},
   "outputs": [
    {
     "name": "stdout",
     "output_type": "stream",
     "text": [
      "133.99885036027217\n"
     ]
    }
   ],
   "source": [
    "pre=grid_Ridge.predict(X_test)\n",
    "print(rmse(y_test, pre))"
   ]
  },
  {
   "cell_type": "code",
   "execution_count": 188,
   "metadata": {},
   "outputs": [
    {
     "data": {
      "text/plain": [
       "Ridge(alpha=50, copy_X=True, fit_intercept=True, max_iter=None, normalize=False,\n",
       "      random_state=None, solver='auto', tol=0.001)"
      ]
     },
     "execution_count": 188,
     "metadata": {},
     "output_type": "execute_result"
    }
   ],
   "source": [
    "R = Ridge(alpha = grid_Ridge.best_params_[\"alpha\"])\n",
    "R.fit(X=X_train,y=y_train)"
   ]
  },
  {
   "cell_type": "code",
   "execution_count": 261,
   "metadata": {},
   "outputs": [
    {
     "name": "stdout",
     "output_type": "stream",
     "text": [
      "RMSE of Ridge Regression:  133.99885036027217\n"
     ]
    }
   ],
   "source": [
    "pre=R.predict(X_test)\n",
    "print(\"RMSE of Ridge Regression: \", rmse(y_test, pre))"
   ]
  },
  {
   "cell_type": "code",
   "execution_count": 262,
   "metadata": {},
   "outputs": [
    {
     "data": {
      "image/png": "[encoded data removed]",
      "text/plain": [
       "<Figure size 720x576 with 1 Axes>"
      ]
     },
     "metadata": {
      "needs_background": "light"
     },
     "output_type": "display_data"
    }
   ],
   "source": [
    "x_axix = list(range(100))\n",
    "plt.figure(figsize=(10,8))\n",
    "plt.title('Ridge Regression')\n",
    "plt.plot(x_axix, pre[0:100], color='green', label='Prediction')\n",
    "plt.plot(x_axix, y_test[0:100], color='red', label='Reality')\n",
    "plt.xlabel('Sample index')\n",
    "plt.ylabel('Count')\n",
    "plt.show()"
   ]
  },
  {
   "cell_type": "code",
   "execution_count": 190,
   "metadata": {},
   "outputs": [],
   "source": [
    "with open('Ridge.pkl', 'wb') as f:\n",
    "    joblib.dump(R, 'Ridge.pkl')"
   ]
  },
  {
   "cell_type": "markdown",
   "metadata": {},
   "source": [
    "Lasso Regression"
   ]
  },
  {
   "cell_type": "code",
   "execution_count": 191,
   "metadata": {},
   "outputs": [
    {
     "data": {
      "text/plain": [
       "GridSearchCV(cv=5, error_score='raise-deprecating',\n",
       "             estimator=Lasso(alpha=1.0, copy_X=True, fit_intercept=True,\n",
       "                             max_iter=1000, normalize=False, positive=False,\n",
       "                             precompute=False, random_state=None,\n",
       "                             selection='cyclic', tol=0.0001, warm_start=False),\n",
       "             iid='warn', n_jobs=None,\n",
       "             param_grid={'alpha': [0.1, 1, 2, 3, 4, 10, 20, 30, 40, 50, 60, 70,\n",
       "                                   80, 90, 100, 200]},\n",
       "             pre_dispatch='2*n_jobs', refit=True, return_train_score=False,\n",
       "             scoring=make_scorer(rmse, greater_is_better=False), verbose=0)"
      ]
     },
     "execution_count": 191,
     "metadata": {},
     "output_type": "execute_result"
    }
   ],
   "source": [
    "estimator = Lasso()\n",
    "parameters = { \n",
    "    'alpha':[0.1, 1, 2, 3, 4, 10, 20, 30, 40, 50, 60, 70, 80, 90, 100,200]\n",
    "}\n",
    "rmse_scorer = metrics.make_scorer(rmse, greater_is_better=False)\n",
    "grid_Lasso = GridSearchCV( estimator,\n",
    "                          param_grid=parameters,\n",
    "                          scoring = rmse_scorer,\n",
    "                          cv=5)\n",
    "\n",
    "grid_Lasso.fit(X=X_train,y=y_train)"
   ]
  },
  {
   "cell_type": "code",
   "execution_count": 192,
   "metadata": {},
   "outputs": [
    {
     "name": "stdout",
     "output_type": "stream",
     "text": [
      "-134.369289  with:   {'alpha': 0.1}\n",
      "-134.515452  with:   {'alpha': 1}\n",
      "-134.869226  with:   {'alpha': 2}\n",
      "-135.164969  with:   {'alpha': 3}\n",
      "-135.443266  with:   {'alpha': 4}\n",
      "-135.774376  with:   {'alpha': 10}\n",
      "-135.817665  with:   {'alpha': 20}\n",
      "-135.880357  with:   {'alpha': 30}\n",
      "-135.962643  with:   {'alpha': 40}\n",
      "-136.064948  with:   {'alpha': 50}\n",
      "-136.192777  with:   {'alpha': 60}\n",
      "-136.343607  with:   {'alpha': 70}\n",
      "-136.517362  with:   {'alpha': 80}\n",
      "-136.713955  with:   {'alpha': 90}\n",
      "-136.933282  with:   {'alpha': 100}\n",
      "-140.347819  with:   {'alpha': 200}\n",
      "{'alpha': 0.1}\n",
      "-134.3692894705198\n"
     ]
    }
   ],
   "source": [
    "means = grid_Lasso.cv_results_['mean_test_score']\n",
    "params = grid_Lasso.cv_results_['params']\n",
    "for mean,param in zip(means,params):\n",
    "    print(\"%f  with:   %r\" % (mean,param))\n",
    "print(grid_Lasso.best_params_)\n",
    "print(grid_Lasso.best_score_)"
   ]
  },
  {
   "cell_type": "code",
   "execution_count": 193,
   "metadata": {},
   "outputs": [],
   "source": [
    "pre=grid_Lasso.predict(X_test)"
   ]
  },
  {
   "cell_type": "code",
   "execution_count": 194,
   "metadata": {},
   "outputs": [
    {
     "data": {
      "text/plain": [
       "133.99936740850274"
      ]
     },
     "execution_count": 194,
     "metadata": {},
     "output_type": "execute_result"
    }
   ],
   "source": [
    "rmse(y_test, pre)"
   ]
  },
  {
   "cell_type": "code",
   "execution_count": 195,
   "metadata": {},
   "outputs": [
    {
     "data": {
      "text/plain": [
       "Lasso(alpha=0.1, copy_X=True, fit_intercept=True, max_iter=1000,\n",
       "      normalize=False, positive=False, precompute=False, random_state=None,\n",
       "      selection='cyclic', tol=0.0001, warm_start=False)"
      ]
     },
     "execution_count": 195,
     "metadata": {},
     "output_type": "execute_result"
    }
   ],
   "source": [
    "L = Lasso(alpha = grid_Lasso.best_params_[\"alpha\"])\n",
    "L.fit(X=X_train,y=y_train)"
   ]
  },
  {
   "cell_type": "code",
   "execution_count": 263,
   "metadata": {},
   "outputs": [
    {
     "name": "stdout",
     "output_type": "stream",
     "text": [
      "RMSE of Lasso Regression:  133.99936740850274\n"
     ]
    }
   ],
   "source": [
    "pre=L.predict(X_test)\n",
    "print(\"RMSE of Lasso Regression: \", rmse(y_test, pre))"
   ]
  },
  {
   "cell_type": "code",
   "execution_count": 264,
   "metadata": {},
   "outputs": [
    {
     "data": {
      "image/png": "[encoded data removed]",
      "text/plain": [
       "<Figure size 720x576 with 1 Axes>"
      ]
     },
     "metadata": {
      "needs_background": "light"
     },
     "output_type": "display_data"
    }
   ],
   "source": [
    "x_axix = list(range(100))\n",
    "plt.figure(figsize=(10,8))\n",
    "plt.title('Lasso Regression')\n",
    "plt.plot(x_axix, pre[0:100], color='green', label='Prediction')\n",
    "plt.plot(x_axix, y_test[0:100], color='red', label='Reality')\n",
    "plt.xlabel('Sample index')\n",
    "plt.ylabel('Count')\n",
    "plt.show()"
   ]
  },
  {
   "cell_type": "code",
   "execution_count": 197,
   "metadata": {},
   "outputs": [],
   "source": [
    "with open('Lasso.pkl', 'wb') as f:\n",
    "    joblib.dump(L, 'Lasso.pkl')"
   ]
  },
  {
   "cell_type": "markdown",
   "metadata": {},
   "source": [
    "GradientBoostingRegressor"
   ]
  },
  {
   "cell_type": "code",
   "execution_count": 198,
   "metadata": {
    "collapsed": true,
    "jupyter": {
     "outputs_hidden": true
    }
   },
   "outputs": [
    {
     "data": {
      "text/plain": [
       "GridSearchCV(cv=5, error_score='raise-deprecating',\n",
       "             estimator=GradientBoostingRegressor(alpha=0.9,\n",
       "                                                 criterion='friedman_mse',\n",
       "                                                 init=None, learning_rate=0.1,\n",
       "                                                 loss='ls', max_depth=3,\n",
       "                                                 max_features=None,\n",
       "                                                 max_leaf_nodes=None,\n",
       "                                                 min_impurity_decrease=0.0,\n",
       "                                                 min_impurity_split=None,\n",
       "                                                 min_samples_leaf=1,\n",
       "                                                 min_samples_split=2,\n",
       "                                                 min_weight_fraction_leaf=0.0,\n",
       "                                                 n_estimators=100,\n",
       "                                                 n_iter...\n",
       "                                                 random_state=None,\n",
       "                                                 subsample=1.0, tol=0.0001,\n",
       "                                                 validation_fraction=0.1,\n",
       "                                                 verbose=0, warm_start=False),\n",
       "             iid='warn', n_jobs=None,\n",
       "             param_grid={'learning_rate': [0.1, 0.05, 0.02],\n",
       "                         'max_depth': [4, 3, 2], 'min_samples_leaf': [1, 2, 3],\n",
       "                         'n_estimators': [100, 500, 1000]},\n",
       "             pre_dispatch='2*n_jobs', refit=True, return_train_score=False,\n",
       "             scoring=make_scorer(rmse, greater_is_better=False), verbose=0)"
      ]
     },
     "execution_count": 198,
     "metadata": {},
     "output_type": "execute_result"
    }
   ],
   "source": [
    "estimator = GradientBoostingRegressor()\n",
    "parameters = { \n",
    "    'n_estimators':[100,500,1000],\n",
    "    'learning_rate': [0.1,0.05,0.02],\n",
    "    'max_depth':[4,3,2],\n",
    "    'min_samples_leaf':[1,2,3]\n",
    "}\n",
    "rmse_scorer = metrics.make_scorer(rmse, greater_is_better=False)\n",
    "grid_GBR = GridSearchCV( estimator,\n",
    "                          param_grid=parameters,\n",
    "                          scoring = rmse_scorer,\n",
    "                          cv=5)\n",
    "\n",
    "grid_GBR.fit(X=X_train,y=y_train.to_numpy().ravel())"
   ]
  },
  {
   "cell_type": "code",
   "execution_count": 199,
   "metadata": {
    "collapsed": true,
    "jupyter": {
     "outputs_hidden": true
    }
   },
   "outputs": [
    {
     "name": "stdout",
     "output_type": "stream",
     "text": [
      "-68.318905  with:   {'learning_rate': 0.1, 'max_depth': 4, 'min_samples_leaf': 1, 'n_estimators': 100}\n",
      "-57.839896  with:   {'learning_rate': 0.1, 'max_depth': 4, 'min_samples_leaf': 1, 'n_estimators': 500}\n",
      "-54.521630  with:   {'learning_rate': 0.1, 'max_depth': 4, 'min_samples_leaf': 1, 'n_estimators': 1000}\n",
      "-68.114854  with:   {'learning_rate': 0.1, 'max_depth': 4, 'min_samples_leaf': 2, 'n_estimators': 100}\n",
      "-58.035942  with:   {'learning_rate': 0.1, 'max_depth': 4, 'min_samples_leaf': 2, 'n_estimators': 500}\n",
      "-54.718444  with:   {'learning_rate': 0.1, 'max_depth': 4, 'min_samples_leaf': 2, 'n_estimators': 1000}\n",
      "-67.752748  with:   {'learning_rate': 0.1, 'max_depth': 4, 'min_samples_leaf': 3, 'n_estimators': 100}\n",
      "-57.691924  with:   {'learning_rate': 0.1, 'max_depth': 4, 'min_samples_leaf': 3, 'n_estimators': 500}\n",
      "-54.341933  with:   {'learning_rate': 0.1, 'max_depth': 4, 'min_samples_leaf': 3, 'n_estimators': 1000}\n",
      "-77.624306  with:   {'learning_rate': 0.1, 'max_depth': 3, 'min_samples_leaf': 1, 'n_estimators': 100}\n",
      "-64.785146  with:   {'learning_rate': 0.1, 'max_depth': 3, 'min_samples_leaf': 1, 'n_estimators': 500}\n",
      "-61.004746  with:   {'learning_rate': 0.1, 'max_depth': 3, 'min_samples_leaf': 1, 'n_estimators': 1000}\n",
      "-78.038746  with:   {'learning_rate': 0.1, 'max_depth': 3, 'min_samples_leaf': 2, 'n_estimators': 100}\n",
      "-64.701726  with:   {'learning_rate': 0.1, 'max_depth': 3, 'min_samples_leaf': 2, 'n_estimators': 500}\n",
      "-61.105604  with:   {'learning_rate': 0.1, 'max_depth': 3, 'min_samples_leaf': 2, 'n_estimators': 1000}\n",
      "-77.637015  with:   {'learning_rate': 0.1, 'max_depth': 3, 'min_samples_leaf': 3, 'n_estimators': 100}\n",
      "-64.621745  with:   {'learning_rate': 0.1, 'max_depth': 3, 'min_samples_leaf': 3, 'n_estimators': 500}\n",
      "-60.836400  with:   {'learning_rate': 0.1, 'max_depth': 3, 'min_samples_leaf': 3, 'n_estimators': 1000}\n",
      "-97.141445  with:   {'learning_rate': 0.1, 'max_depth': 2, 'min_samples_leaf': 1, 'n_estimators': 100}\n",
      "-81.939772  with:   {'learning_rate': 0.1, 'max_depth': 2, 'min_samples_leaf': 1, 'n_estimators': 500}\n",
      "-77.483090  with:   {'learning_rate': 0.1, 'max_depth': 2, 'min_samples_leaf': 1, 'n_estimators': 1000}\n",
      "-97.017036  with:   {'learning_rate': 0.1, 'max_depth': 2, 'min_samples_leaf': 2, 'n_estimators': 100}\n",
      "-81.957771  with:   {'learning_rate': 0.1, 'max_depth': 2, 'min_samples_leaf': 2, 'n_estimators': 500}\n",
      "-77.223309  with:   {'learning_rate': 0.1, 'max_depth': 2, 'min_samples_leaf': 2, 'n_estimators': 1000}\n",
      "-97.078028  with:   {'learning_rate': 0.1, 'max_depth': 2, 'min_samples_leaf': 3, 'n_estimators': 100}\n",
      "-82.288368  with:   {'learning_rate': 0.1, 'max_depth': 2, 'min_samples_leaf': 3, 'n_estimators': 500}\n",
      "-77.229658  with:   {'learning_rate': 0.1, 'max_depth': 2, 'min_samples_leaf': 3, 'n_estimators': 1000}\n",
      "-75.079305  with:   {'learning_rate': 0.05, 'max_depth': 4, 'min_samples_leaf': 1, 'n_estimators': 100}\n",
      "-62.012272  with:   {'learning_rate': 0.05, 'max_depth': 4, 'min_samples_leaf': 1, 'n_estimators': 500}\n",
      "-58.020949  with:   {'learning_rate': 0.05, 'max_depth': 4, 'min_samples_leaf': 1, 'n_estimators': 1000}\n",
      "-75.464772  with:   {'learning_rate': 0.05, 'max_depth': 4, 'min_samples_leaf': 2, 'n_estimators': 100}\n",
      "-61.907420  with:   {'learning_rate': 0.05, 'max_depth': 4, 'min_samples_leaf': 2, 'n_estimators': 500}\n",
      "-57.779283  with:   {'learning_rate': 0.05, 'max_depth': 4, 'min_samples_leaf': 2, 'n_estimators': 1000}\n",
      "-75.159403  with:   {'learning_rate': 0.05, 'max_depth': 4, 'min_samples_leaf': 3, 'n_estimators': 100}\n",
      "-62.019711  with:   {'learning_rate': 0.05, 'max_depth': 4, 'min_samples_leaf': 3, 'n_estimators': 500}\n",
      "-58.079677  with:   {'learning_rate': 0.05, 'max_depth': 4, 'min_samples_leaf': 3, 'n_estimators': 1000}\n",
      "-90.634315  with:   {'learning_rate': 0.05, 'max_depth': 3, 'min_samples_leaf': 1, 'n_estimators': 100}\n",
      "-69.221016  with:   {'learning_rate': 0.05, 'max_depth': 3, 'min_samples_leaf': 1, 'n_estimators': 500}\n",
      "-64.833204  with:   {'learning_rate': 0.05, 'max_depth': 3, 'min_samples_leaf': 1, 'n_estimators': 1000}\n",
      "-90.758166  with:   {'learning_rate': 0.05, 'max_depth': 3, 'min_samples_leaf': 2, 'n_estimators': 100}\n",
      "-69.721143  with:   {'learning_rate': 0.05, 'max_depth': 3, 'min_samples_leaf': 2, 'n_estimators': 500}\n",
      "-65.053026  with:   {'learning_rate': 0.05, 'max_depth': 3, 'min_samples_leaf': 2, 'n_estimators': 1000}\n",
      "-90.879949  with:   {'learning_rate': 0.05, 'max_depth': 3, 'min_samples_leaf': 3, 'n_estimators': 100}\n",
      "-69.213750  with:   {'learning_rate': 0.05, 'max_depth': 3, 'min_samples_leaf': 3, 'n_estimators': 500}\n",
      "-64.700604  with:   {'learning_rate': 0.05, 'max_depth': 3, 'min_samples_leaf': 3, 'n_estimators': 1000}\n",
      "-104.511376  with:   {'learning_rate': 0.05, 'max_depth': 2, 'min_samples_leaf': 1, 'n_estimators': 100}\n",
      "-87.931091  with:   {'learning_rate': 0.05, 'max_depth': 2, 'min_samples_leaf': 1, 'n_estimators': 500}\n",
      "-81.917137  with:   {'learning_rate': 0.05, 'max_depth': 2, 'min_samples_leaf': 1, 'n_estimators': 1000}\n",
      "-104.511376  with:   {'learning_rate': 0.05, 'max_depth': 2, 'min_samples_leaf': 2, 'n_estimators': 100}\n",
      "-88.254870  with:   {'learning_rate': 0.05, 'max_depth': 2, 'min_samples_leaf': 2, 'n_estimators': 500}\n",
      "-82.219046  with:   {'learning_rate': 0.05, 'max_depth': 2, 'min_samples_leaf': 2, 'n_estimators': 1000}\n",
      "-104.511376  with:   {'learning_rate': 0.05, 'max_depth': 2, 'min_samples_leaf': 3, 'n_estimators': 100}\n",
      "-88.290242  with:   {'learning_rate': 0.05, 'max_depth': 2, 'min_samples_leaf': 3, 'n_estimators': 500}\n",
      "-82.412473  with:   {'learning_rate': 0.05, 'max_depth': 2, 'min_samples_leaf': 3, 'n_estimators': 1000}\n",
      "-94.710126  with:   {'learning_rate': 0.02, 'max_depth': 4, 'min_samples_leaf': 1, 'n_estimators': 100}\n",
      "-68.480156  with:   {'learning_rate': 0.02, 'max_depth': 4, 'min_samples_leaf': 1, 'n_estimators': 500}\n",
      "-63.430991  with:   {'learning_rate': 0.02, 'max_depth': 4, 'min_samples_leaf': 1, 'n_estimators': 1000}\n",
      "-94.707872  with:   {'learning_rate': 0.02, 'max_depth': 4, 'min_samples_leaf': 2, 'n_estimators': 100}\n",
      "-68.425671  with:   {'learning_rate': 0.02, 'max_depth': 4, 'min_samples_leaf': 2, 'n_estimators': 500}\n",
      "-63.534219  with:   {'learning_rate': 0.02, 'max_depth': 4, 'min_samples_leaf': 2, 'n_estimators': 1000}\n",
      "-94.709989  with:   {'learning_rate': 0.02, 'max_depth': 4, 'min_samples_leaf': 3, 'n_estimators': 100}\n",
      "-68.575177  with:   {'learning_rate': 0.02, 'max_depth': 4, 'min_samples_leaf': 3, 'n_estimators': 500}\n",
      "-63.541037  with:   {'learning_rate': 0.02, 'max_depth': 4, 'min_samples_leaf': 3, 'n_estimators': 1000}\n",
      "-108.193634  with:   {'learning_rate': 0.02, 'max_depth': 3, 'min_samples_leaf': 1, 'n_estimators': 100}\n",
      "-80.073770  with:   {'learning_rate': 0.02, 'max_depth': 3, 'min_samples_leaf': 1, 'n_estimators': 500}\n",
      "-70.878207  with:   {'learning_rate': 0.02, 'max_depth': 3, 'min_samples_leaf': 1, 'n_estimators': 1000}\n",
      "-108.193634  with:   {'learning_rate': 0.02, 'max_depth': 3, 'min_samples_leaf': 2, 'n_estimators': 100}\n",
      "-79.686128  with:   {'learning_rate': 0.02, 'max_depth': 3, 'min_samples_leaf': 2, 'n_estimators': 500}\n",
      "-71.169959  with:   {'learning_rate': 0.02, 'max_depth': 3, 'min_samples_leaf': 2, 'n_estimators': 1000}\n",
      "-108.193634  with:   {'learning_rate': 0.02, 'max_depth': 3, 'min_samples_leaf': 3, 'n_estimators': 100}\n",
      "-79.674181  with:   {'learning_rate': 0.02, 'max_depth': 3, 'min_samples_leaf': 3, 'n_estimators': 500}\n",
      "-71.348270  with:   {'learning_rate': 0.02, 'max_depth': 3, 'min_samples_leaf': 3, 'n_estimators': 1000}\n",
      "-117.822231  with:   {'learning_rate': 0.02, 'max_depth': 2, 'min_samples_leaf': 1, 'n_estimators': 100}\n",
      "-97.249255  with:   {'learning_rate': 0.02, 'max_depth': 2, 'min_samples_leaf': 1, 'n_estimators': 500}\n",
      "-90.474517  with:   {'learning_rate': 0.02, 'max_depth': 2, 'min_samples_leaf': 1, 'n_estimators': 1000}\n",
      "-117.822231  with:   {'learning_rate': 0.02, 'max_depth': 2, 'min_samples_leaf': 2, 'n_estimators': 100}\n",
      "-97.236195  with:   {'learning_rate': 0.02, 'max_depth': 2, 'min_samples_leaf': 2, 'n_estimators': 500}\n",
      "-90.333268  with:   {'learning_rate': 0.02, 'max_depth': 2, 'min_samples_leaf': 2, 'n_estimators': 1000}\n",
      "-117.822231  with:   {'learning_rate': 0.02, 'max_depth': 2, 'min_samples_leaf': 3, 'n_estimators': 100}\n",
      "-97.232267  with:   {'learning_rate': 0.02, 'max_depth': 2, 'min_samples_leaf': 3, 'n_estimators': 500}\n",
      "-90.109014  with:   {'learning_rate': 0.02, 'max_depth': 2, 'min_samples_leaf': 3, 'n_estimators': 1000}\n",
      "{'learning_rate': 0.1, 'max_depth': 4, 'min_samples_leaf': 3, 'n_estimators': 1000}\n",
      "-54.34193328848918\n"
     ]
    }
   ],
   "source": [
    "means = grid_GBR.cv_results_['mean_test_score']\n",
    "params = grid_GBR.cv_results_['params']\n",
    "for mean,param in zip(means,params):\n",
    "    print(\"%f  with:   %r\" % (mean,param))\n",
    "print(grid_GBR.best_params_)\n",
    "print(grid_GBR.best_score_)"
   ]
  },
  {
   "cell_type": "code",
   "execution_count": 200,
   "metadata": {},
   "outputs": [],
   "source": [
    "pre=grid_GBR.predict(X_test)"
   ]
  },
  {
   "cell_type": "code",
   "execution_count": 201,
   "metadata": {},
   "outputs": [
    {
     "data": {
      "text/plain": [
       "53.87434618448344"
      ]
     },
     "execution_count": 201,
     "metadata": {},
     "output_type": "execute_result"
    }
   ],
   "source": [
    "rmse(y_test, pre)"
   ]
  },
  {
   "cell_type": "code",
   "execution_count": 202,
   "metadata": {},
   "outputs": [
    {
     "name": "stderr",
     "output_type": "stream",
     "text": [
      "D:\\Anaconda3\\lib\\site-packages\\sklearn\\ensemble\\gradient_boosting.py:1450: DataConversionWarning: A column-vector y was passed when a 1d array was expected. Please change the shape of y to (n_samples, ), for example using ravel().\n",
      "  y = column_or_1d(y, warn=True)\n"
     ]
    },
    {
     "data": {
      "text/plain": [
       "GradientBoostingRegressor(alpha=0.9, criterion='friedman_mse', init=None,\n",
       "                          learning_rate=0.1, loss='ls', max_depth=4,\n",
       "                          max_features=None, max_leaf_nodes=None,\n",
       "                          min_impurity_decrease=0.0, min_impurity_split=None,\n",
       "                          min_samples_leaf=3, min_samples_split=2,\n",
       "                          min_weight_fraction_leaf=0.0, n_estimators=1000,\n",
       "                          n_iter_no_change=None, presort='auto',\n",
       "                          random_state=None, subsample=1.0, tol=0.0001,\n",
       "                          validation_fraction=0.1, verbose=0, warm_start=False)"
      ]
     },
     "execution_count": 202,
     "metadata": {},
     "output_type": "execute_result"
    }
   ],
   "source": [
    "GBR = GradientBoostingRegressor(n_estimators = grid_GBR.best_params_[\"n_estimators\"],\n",
    "                               learning_rate = grid_GBR.best_params_[\"learning_rate\"],\n",
    "                               max_depth = grid_GBR.best_params_[\"max_depth\"],\n",
    "                               min_samples_leaf = grid_GBR.best_params_[\"min_samples_leaf\"])\n",
    "GBR.fit(X=X_train,y=y_train)"
   ]
  },
  {
   "cell_type": "code",
   "execution_count": 265,
   "metadata": {},
   "outputs": [
    {
     "name": "stdout",
     "output_type": "stream",
     "text": [
      "RMSE of Gradient Boosting Regression:  53.92404364992904\n"
     ]
    }
   ],
   "source": [
    "pre=GBR.predict(X_test)\n",
    "print(\"RMSE of Gradient Boosting Regression: \", rmse(y_test, pre))"
   ]
  },
  {
   "cell_type": "code",
   "execution_count": 266,
   "metadata": {},
   "outputs": [
    {
     "data": {
      "image/png": "[encoded data removed]",
      "text/plain": [
       "<Figure size 720x576 with 1 Axes>"
      ]
     },
     "metadata": {
      "needs_background": "light"
     },
     "output_type": "display_data"
    }
   ],
   "source": [
    "x_axix = list(range(100))\n",
    "plt.figure(figsize=(10,8))\n",
    "plt.title('Gradient Boosting Regression')\n",
    "plt.plot(x_axix, pre[0:100], color='green', label='Prediction')\n",
    "plt.plot(x_axix, y_test[0:100], color='red', label='Reality')\n",
    "plt.xlabel('Sample index')\n",
    "plt.ylabel('Count')\n",
    "plt.show()"
   ]
  },
  {
   "cell_type": "code",
   "execution_count": 204,
   "metadata": {},
   "outputs": [],
   "source": [
    "with open('GBR.pkl', 'wb') as f:\n",
    "    joblib.dump(GBR, 'GBR.pkl')"
   ]
  },
  {
   "cell_type": "markdown",
   "metadata": {},
   "source": [
    "Random Forest Regressor"
   ]
  },
  {
   "cell_type": "code",
   "execution_count": 271,
   "metadata": {},
   "outputs": [
    {
     "data": {
      "text/plain": [
       "GridSearchCV(cv=5, error_score='raise-deprecating',\n",
       "             estimator=RandomForestRegressor(bootstrap=True, criterion='mse',\n",
       "                                             max_depth=None,\n",
       "                                             max_features='auto',\n",
       "                                             max_leaf_nodes=None,\n",
       "                                             min_impurity_decrease=0.0,\n",
       "                                             min_impurity_split=None,\n",
       "                                             min_samples_leaf=1,\n",
       "                                             min_samples_split=2,\n",
       "                                             min_weight_fraction_leaf=0.0,\n",
       "                                             n_estimators='warn', n_jobs=None,\n",
       "                                             oob_score=False, random_state=None,\n",
       "                                             verbose=0, warm_start=False),\n",
       "             iid='warn', n_jobs=None,\n",
       "             param_grid={'min_samples_leaf': [1, 2, 4],\n",
       "                         'min_samples_split': [2, 5, 10],\n",
       "                         'n_estimators': [100, 1000, 2000], 'n_jobs': [-1],\n",
       "                         'random_state': [0]},\n",
       "             pre_dispatch='2*n_jobs', refit=True, return_train_score=False,\n",
       "             scoring=make_scorer(rmse, greater_is_better=False), verbose=0)"
      ]
     },
     "execution_count": 271,
     "metadata": {},
     "output_type": "execute_result"
    }
   ],
   "source": [
    "estimator = RandomForestRegressor()\n",
    "parameters = { \n",
    "    'min_samples_leaf': [1, 2, 4],\n",
    "    'min_samples_split': [2, 5, 10],\n",
    "    'n_estimators': [100, 1000, 2000],\n",
    "    'random_state' : [0],\n",
    "    'n_jobs' : [-1]\n",
    "}\n",
    "rmse_scorer = metrics.make_scorer(rmse, greater_is_better=False)\n",
    "grid_RFR = GridSearchCV( estimator,\n",
    "                          param_grid=parameters,\n",
    "                          scoring = rmse_scorer,\n",
    "                          cv=5)\n",
    "\n",
    "grid_RFR.fit(X=X_train,y=y_train.to_numpy().ravel())"
   ]
  },
  {
   "cell_type": "code",
   "execution_count": 272,
   "metadata": {},
   "outputs": [
    {
     "name": "stdout",
     "output_type": "stream",
     "text": [
      "-63.481163  with:   {'min_samples_leaf': 1, 'min_samples_split': 2, 'n_estimators': 100, 'n_jobs': -1, 'random_state': 0}\n",
      "-63.141257  with:   {'min_samples_leaf': 1, 'min_samples_split': 2, 'n_estimators': 1000, 'n_jobs': -1, 'random_state': 0}\n",
      "-63.167549  with:   {'min_samples_leaf': 1, 'min_samples_split': 2, 'n_estimators': 2000, 'n_jobs': -1, 'random_state': 0}\n",
      "-63.781904  with:   {'min_samples_leaf': 1, 'min_samples_split': 5, 'n_estimators': 100, 'n_jobs': -1, 'random_state': 0}\n",
      "-63.498081  with:   {'min_samples_leaf': 1, 'min_samples_split': 5, 'n_estimators': 1000, 'n_jobs': -1, 'random_state': 0}\n",
      "-63.495629  with:   {'min_samples_leaf': 1, 'min_samples_split': 5, 'n_estimators': 2000, 'n_jobs': -1, 'random_state': 0}\n",
      "-64.486936  with:   {'min_samples_leaf': 1, 'min_samples_split': 10, 'n_estimators': 100, 'n_jobs': -1, 'random_state': 0}\n",
      "-64.269204  with:   {'min_samples_leaf': 1, 'min_samples_split': 10, 'n_estimators': 1000, 'n_jobs': -1, 'random_state': 0}\n",
      "-64.265853  with:   {'min_samples_leaf': 1, 'min_samples_split': 10, 'n_estimators': 2000, 'n_jobs': -1, 'random_state': 0}\n",
      "-64.058998  with:   {'min_samples_leaf': 2, 'min_samples_split': 2, 'n_estimators': 100, 'n_jobs': -1, 'random_state': 0}\n",
      "-63.724711  with:   {'min_samples_leaf': 2, 'min_samples_split': 2, 'n_estimators': 1000, 'n_jobs': -1, 'random_state': 0}\n",
      "-63.730415  with:   {'min_samples_leaf': 2, 'min_samples_split': 2, 'n_estimators': 2000, 'n_jobs': -1, 'random_state': 0}\n",
      "-64.139874  with:   {'min_samples_leaf': 2, 'min_samples_split': 5, 'n_estimators': 100, 'n_jobs': -1, 'random_state': 0}\n",
      "-63.836549  with:   {'min_samples_leaf': 2, 'min_samples_split': 5, 'n_estimators': 1000, 'n_jobs': -1, 'random_state': 0}\n",
      "-63.836807  with:   {'min_samples_leaf': 2, 'min_samples_split': 5, 'n_estimators': 2000, 'n_jobs': -1, 'random_state': 0}\n",
      "-64.798676  with:   {'min_samples_leaf': 2, 'min_samples_split': 10, 'n_estimators': 100, 'n_jobs': -1, 'random_state': 0}\n",
      "-64.530251  with:   {'min_samples_leaf': 2, 'min_samples_split': 10, 'n_estimators': 1000, 'n_jobs': -1, 'random_state': 0}\n",
      "-64.519056  with:   {'min_samples_leaf': 2, 'min_samples_split': 10, 'n_estimators': 2000, 'n_jobs': -1, 'random_state': 0}\n",
      "-65.177791  with:   {'min_samples_leaf': 4, 'min_samples_split': 2, 'n_estimators': 100, 'n_jobs': -1, 'random_state': 0}\n",
      "-65.053184  with:   {'min_samples_leaf': 4, 'min_samples_split': 2, 'n_estimators': 1000, 'n_jobs': -1, 'random_state': 0}\n",
      "-65.044866  with:   {'min_samples_leaf': 4, 'min_samples_split': 2, 'n_estimators': 2000, 'n_jobs': -1, 'random_state': 0}\n",
      "-65.177791  with:   {'min_samples_leaf': 4, 'min_samples_split': 5, 'n_estimators': 100, 'n_jobs': -1, 'random_state': 0}\n",
      "-65.053184  with:   {'min_samples_leaf': 4, 'min_samples_split': 5, 'n_estimators': 1000, 'n_jobs': -1, 'random_state': 0}\n",
      "-65.044866  with:   {'min_samples_leaf': 4, 'min_samples_split': 5, 'n_estimators': 2000, 'n_jobs': -1, 'random_state': 0}\n",
      "-65.395388  with:   {'min_samples_leaf': 4, 'min_samples_split': 10, 'n_estimators': 100, 'n_jobs': -1, 'random_state': 0}\n",
      "-65.240390  with:   {'min_samples_leaf': 4, 'min_samples_split': 10, 'n_estimators': 1000, 'n_jobs': -1, 'random_state': 0}\n",
      "-65.232200  with:   {'min_samples_leaf': 4, 'min_samples_split': 10, 'n_estimators': 2000, 'n_jobs': -1, 'random_state': 0}\n",
      "{'min_samples_leaf': 1, 'min_samples_split': 2, 'n_estimators': 1000, 'n_jobs': -1, 'random_state': 0}\n",
      "-63.141257242901155\n"
     ]
    }
   ],
   "source": [
    "means = grid_RFR.cv_results_['mean_test_score']\n",
    "params = grid_RFR.cv_results_['params']\n",
    "for mean,param in zip(means,params):\n",
    "    print(\"%f  with:   %r\" % (mean,param))\n",
    "print(grid_RFR.best_params_)\n",
    "print(grid_RFR.best_score_)"
   ]
  },
  {
   "cell_type": "code",
   "execution_count": 273,
   "metadata": {},
   "outputs": [
    {
     "data": {
      "text/plain": [
       "60.63702003097711"
      ]
     },
     "execution_count": 273,
     "metadata": {},
     "output_type": "execute_result"
    }
   ],
   "source": [
    "pre=grid_RFR.predict(X_test)\n",
    "rmse(y_test, pre)"
   ]
  },
  {
   "cell_type": "code",
   "execution_count": 274,
   "metadata": {},
   "outputs": [
    {
     "data": {
      "text/plain": [
       "RandomForestRegressor(bootstrap=True, criterion='mse', max_depth=None,\n",
       "                      max_features='auto', max_leaf_nodes=None,\n",
       "                      min_impurity_decrease=0.0, min_impurity_split=None,\n",
       "                      min_samples_leaf=1, min_samples_split=2,\n",
       "                      min_weight_fraction_leaf=0.0, n_estimators=1000,\n",
       "                      n_jobs=-1, oob_score=False, random_state=0, verbose=0,\n",
       "                      warm_start=False)"
      ]
     },
     "execution_count": 274,
     "metadata": {},
     "output_type": "execute_result"
    }
   ],
   "source": [
    "RFR = RandomForestRegressor(min_samples_leaf = grid_RFR.best_params_[\"min_samples_leaf\"],\n",
    "                            min_samples_split = grid_RFR.best_params_[\"min_samples_split\"],\n",
    "                            n_estimators = grid_RFR.best_params_[\"n_estimators\"],\n",
    "                            random_state=0, \n",
    "                            n_jobs=-1)\n",
    "RFR.fit(X=X_train,y=y_train.to_numpy().ravel())"
   ]
  },
  {
   "cell_type": "code",
   "execution_count": 275,
   "metadata": {},
   "outputs": [
    {
     "name": "stdout",
     "output_type": "stream",
     "text": [
      "RMSE of Random Forest Regression:  60.63702003097711\n"
     ]
    }
   ],
   "source": [
    "pre=RFR.predict(X_test)\n",
    "print(\"RMSE of Random Forest Regression: \", rmse(y_test, pre))"
   ]
  },
  {
   "cell_type": "code",
   "execution_count": 276,
   "metadata": {},
   "outputs": [
    {
     "data": {
      "image/png": "[encoded data removed]",
      "text/plain": [
       "<Figure size 720x576 with 1 Axes>"
      ]
     },
     "metadata": {
      "needs_background": "light"
     },
     "output_type": "display_data"
    }
   ],
   "source": [
    "x_axix = list(range(100))\n",
    "plt.figure(figsize=(10,8))\n",
    "plt.title('Random Forest Regression')\n",
    "plt.plot(x_axix, pre[0:100], color='green', label='Prediction')\n",
    "plt.plot(x_axix, y_test[0:100], color='red', label='Reality')\n",
    "plt.xlabel('Sample index')\n",
    "plt.ylabel('Count')\n",
    "plt.show()"
   ]
  },
  {
   "cell_type": "code",
   "execution_count": 277,
   "metadata": {},
   "outputs": [],
   "source": [
    "with open('RFR.pkl', 'wb') as f:\n",
    "    joblib.dump(RFR, 'RFR.pkl')"
   ]
  },
  {
   "cell_type": "code",
   "execution_count": 2,
   "metadata": {},
   "outputs": [],
   "source": [
    "GBR = joblib.load(\"GBR.pkl\")"
   ]
  },
  {
   "cell_type": "markdown",
   "metadata": {},
   "source": [
    "The most important features"
   ]
  },
  {
   "cell_type": "code",
   "execution_count": 3,
   "metadata": {},
   "outputs": [
    {
     "data": {
      "text/plain": [
       "array([1.60689680e-03, 1.06719521e-01, 7.97785038e-02, 5.54262904e-02,\n",
       "       3.82011595e-02, 8.46414327e-03, 5.93355208e-01, 7.59717523e-02,\n",
       "       1.24047673e-04, 1.10923905e-03, 5.28060562e-04, 3.03397804e-04,\n",
       "       1.50284670e-03, 1.69368504e-03, 1.51074724e-02, 0.00000000e+00,\n",
       "       4.93476098e-03, 2.39718088e-03, 3.03864081e-03, 4.41692658e-03,\n",
       "       2.18720244e-03, 1.14916665e-03, 1.98389708e-03])"
      ]
     },
     "execution_count": 3,
     "metadata": {},
     "output_type": "execute_result"
    }
   ],
   "source": [
    "GBR.feature_importances_"
   ]
  },
  {
   "cell_type": "code",
   "execution_count": 7,
   "metadata": {},
   "outputs": [
    {
     "data": {
      "text/plain": [
       "['holiday',\n",
       " 'workingday',\n",
       " 'temp',\n",
       " 'atemp',\n",
       " 'humidity',\n",
       " 'windspeed',\n",
       " 'hour',\n",
       " 'date_newyear_num',\n",
       " 'season_1',\n",
       " 'season_2',\n",
       " 'season_3',\n",
       " 'season_4',\n",
       " 'weather_1',\n",
       " 'weather_2',\n",
       " 'weather_3',\n",
       " 'weather_4',\n",
       " 'weekday_Friday',\n",
       " 'weekday_Monday',\n",
       " 'weekday_Saturday',\n",
       " 'weekday_Sunday',\n",
       " 'weekday_Thursday',\n",
       " 'weekday_Tuesday',\n",
       " 'weekday_Wednesday']"
      ]
     },
     "execution_count": 7,
     "metadata": {},
     "output_type": "execute_result"
    }
   ],
   "source": [
    "X_feature"
   ]
  },
  {
   "cell_type": "code",
   "execution_count": 10,
   "metadata": {},
   "outputs": [],
   "source": [
    "indies = np.argsort(GBR.feature_importances_, kind='heapsort')[::-1]"
   ]
  },
  {
   "cell_type": "code",
   "execution_count": 11,
   "metadata": {},
   "outputs": [
    {
     "data": {
      "text/plain": [
       "array([ 6,  1,  2,  7,  3,  4, 14,  5, 16, 19, 18, 17, 20, 22, 13,  0, 12,\n",
       "       21,  9, 10, 11,  8, 15], dtype=int64)"
      ]
     },
     "execution_count": 11,
     "metadata": {},
     "output_type": "execute_result"
    }
   ],
   "source": [
    "indies"
   ]
  },
  {
   "cell_type": "code",
   "execution_count": 12,
   "metadata": {},
   "outputs": [
    {
     "name": "stdout",
     "output_type": "stream",
     "text": [
      "{'hour': 0.593355208085962}\n",
      "{'workingday': 0.10671952113880932}\n",
      "{'temp': 0.07977850380735288}\n",
      "{'date_newyear_num': 0.07597175226235119}\n",
      "{'atemp': 0.05542629044258905}\n",
      "{'humidity': 0.03820115950369972}\n",
      "{'weather_3': 0.015107472449604325}\n",
      "{'windspeed': 0.008464143265335906}\n",
      "{'weekday_Friday': 0.004934760983437159}\n",
      "{'weekday_Sunday': 0.0044169265760004}\n",
      "{'weekday_Saturday': 0.003038640805841391}\n",
      "{'weekday_Monday': 0.0023971808811316542}\n",
      "{'weekday_Thursday': 0.002187202435353487}\n",
      "{'weekday_Wednesday': 0.00198389707598306}\n",
      "{'weather_2': 0.0016936850410661094}\n",
      "{'holiday': 0.001606896802288471}\n",
      "{'weather_1': 0.00150284670394668}\n",
      "{'weekday_Tuesday': 0.0011491666500215891}\n",
      "{'season_2': 0.0011092390504167974}\n",
      "{'season_3': 0.0005280605621068505}\n",
      "{'season_4': 0.00030339780369843485}\n",
      "{'season_1': 0.0001240476730034785}\n",
      "{'weather_4': 0.0}\n"
     ]
    }
   ],
   "source": [
    "for index in indies:\n",
    "    print({X_feature[index]:GBR.feature_importances_[index]})"
   ]
  },
  {
   "cell_type": "code",
   "execution_count": 42,
   "metadata": {},
   "outputs": [],
   "source": [
    "list_importances = [{X_feature[index]:GBR.feature_importances_[index]} for index in indies]\n",
    "keys = [list(list_importances[i].keys())[0] for i in range(len(list_importances))]\n",
    "values = np.sort(GBR.feature_importances_)[::-1]"
   ]
  },
  {
   "cell_type": "code",
   "execution_count": 45,
   "metadata": {},
   "outputs": [
    {
     "data": {
      "image/png": "[encoded data removed]",
      "text/plain": [
       "<Figure size 1080x288 with 1 Axes>"
      ]
     },
     "metadata": {
      "needs_background": "light"
     },
     "output_type": "display_data"
    }
   ],
   "source": [
    "\n",
    "plt.figure(figsize=(15,4))\n",
    "plt.title('10 Most Important Features')\n",
    "plt.bar(keys[0:10], values[0:10])\n",
    "plt.xlabel('Feature')\n",
    "plt.ylabel('Importance')\n",
    "plt.show()"
   ]
  },
  {
   "cell_type": "code",
   "execution_count": null,
   "metadata": {},
   "outputs": [],
   "source": []
  }
 ],
 "metadata": {
  "kernelspec": {
   "display_name": "Python 3",
   "language": "python",
   "name": "python3"
  },
  "language_info": {
   "codemirror_mode": {
    "name": "ipython",
    "version": 3
   },
   "file_extension": ".py",
   "mimetype": "text/x-python",
   "name": "python",
   "nbconvert_exporter": "python",
   "pygments_lexer": "ipython3",
   "version": "3.7.4"
  }
 },
 "nbformat": 4,
 "nbformat_minor": 4
}
